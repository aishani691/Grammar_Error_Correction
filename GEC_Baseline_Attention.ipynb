{
 "cells": [
  {
   "cell_type": "markdown",
   "metadata": {
    "id": "8vLdandXwqRg"
   },
   "source": [
    "This notebook contains the following two steps for the task of Grammar Error Correction\n",
    "\n",
    "3. Training Basic Model and debugging.\n",
    "\n",
    "4. Tuning Basic Model."
   ]
  },
  {
   "cell_type": "markdown",
   "metadata": {
    "id": "VMTZusSIwwVs"
   },
   "source": [
    "## 3. Training the basic model and debugging\n",
    "## 4. Tuning the basic model "
   ]
  },
  {
   "cell_type": "markdown",
   "metadata": {
    "id": "96zj_SHjxI9r"
   },
   "source": [
    "For the baseline model, i decided to train an Encoder Decoder model with attention"
   ]
  },
  {
   "cell_type": "code",
   "execution_count": 1,
   "metadata": {
    "id": "SrwBxeoUweW4"
   },
   "outputs": [],
   "source": [
    "import re\n",
    "import datetime\n",
    "import numpy as np\n",
    "import pandas as pd\n",
    "import random\n",
    "from tqdm import tqdm\n",
    "import keras\n",
    "import tensorflow as tf\n",
    "from sklearn.metrics import fbeta_score\n",
    "from tensorflow.keras.preprocessing.text import Tokenizer\n",
    "from keras.preprocessing.sequence import pad_sequences\n",
    "from keras.callbacks import TensorBoard\n",
    "from tensorflow.keras.layers import Embedding,LSTM, TimeDistributed, Dense, Bidirectional\n",
    "from tensorflow.keras.initializers import HeNormal, GlorotNormal, GlorotUniform\n",
    "from nltk.translate.bleu_score import sentence_bleu\n",
    "import seaborn as sns\n",
    "import matplotlib.pyplot as plt"
   ]
  },
  {
   "cell_type": "code",
   "execution_count": 2,
   "metadata": {
    "colab": {
     "base_uri": "https://localhost:8080/"
    },
    "id": "mX656MsYyvYm",
    "outputId": "be5d9e26-aff4-42b4-977d-cabe5def91d8"
   },
   "outputs": [
    {
     "name": "stdout",
     "output_type": "stream",
     "text": [
      "Mounted at /content/drive\n"
     ]
    }
   ],
   "source": [
    "from google.colab import drive\n",
    "drive.mount('/content/drive')"
   ]
  },
  {
   "cell_type": "markdown",
   "metadata": {
    "id": "VBMO7VdHyEk-"
   },
   "source": [
    "Preprocess before tokenization :"
   ]
  },
  {
   "cell_type": "code",
   "execution_count": 3,
   "metadata": {
    "id": "jsER_SHtyo8s"
   },
   "outputs": [],
   "source": [
    "data = pd.read_csv('drive/MyDrive/GEC/final_preprocessed_15.csv')"
   ]
  },
  {
   "cell_type": "code",
   "execution_count": 4,
   "metadata": {
    "colab": {
     "base_uri": "https://localhost:8080/",
     "height": 1000
    },
    "id": "-F3YSPbXytof",
    "outputId": "c0c152a2-f06d-4dfe-a8f3-6e8f35c4a662"
   },
   "outputs": [
    {
     "data": {
      "text/html": [
       "<div>\n",
       "<style scoped>\n",
       "    .dataframe tbody tr th:only-of-type {\n",
       "        vertical-align: middle;\n",
       "    }\n",
       "\n",
       "    .dataframe tbody tr th {\n",
       "        vertical-align: top;\n",
       "    }\n",
       "\n",
       "    .dataframe thead th {\n",
       "        text-align: right;\n",
       "    }\n",
       "</style>\n",
       "<table border=\"1\" class=\"dataframe\">\n",
       "  <thead>\n",
       "    <tr style=\"text-align: right;\">\n",
       "      <th></th>\n",
       "      <th>error</th>\n",
       "      <th>correct</th>\n",
       "    </tr>\n",
       "  </thead>\n",
       "  <tbody>\n",
       "    <tr>\n",
       "      <th>0</th>\n",
       "      <td>And he took in my favorite subject like soccer .</td>\n",
       "      <td>And he took in my favorite subjects like soccer .</td>\n",
       "    </tr>\n",
       "    <tr>\n",
       "      <th>1</th>\n",
       "      <td>Actually , who let me know about Lang - was him .</td>\n",
       "      <td>Actually , he was the one who let me know about Lang - . .</td>\n",
       "    </tr>\n",
       "    <tr>\n",
       "      <th>2</th>\n",
       "      <td>His Kanji is ability is much better than me .</td>\n",
       "      <td>His Kanji ability is much better than mine .</td>\n",
       "    </tr>\n",
       "    <tr>\n",
       "      <th>3</th>\n",
       "      <td>I heard a sentence last night when I watched TV .</td>\n",
       "      <td>I heard a sentence last night when I was watching TV .</td>\n",
       "    </tr>\n",
       "    <tr>\n",
       "      <th>4</th>\n",
       "      <td>When you go uphill , you hvae to bend your back .</td>\n",
       "      <td>When you go uphill , you have to bend your back .</td>\n",
       "    </tr>\n",
       "    <tr>\n",
       "      <th>5</th>\n",
       "      <td>When you are go smoothly , you have to be more modest .</td>\n",
       "      <td>When everything is going smoothly , you have to be more modest .</td>\n",
       "    </tr>\n",
       "    <tr>\n",
       "      <th>6</th>\n",
       "      <td>The making souvenir is a hard and interesting work .</td>\n",
       "      <td>Making souvenirs is a hard but interesting work .</td>\n",
       "    </tr>\n",
       "    <tr>\n",
       "      <th>7</th>\n",
       "      <td>You know , you can take them at slot machine .</td>\n",
       "      <td>You know , you can ? them at a slot machine .</td>\n",
       "    </tr>\n",
       "    <tr>\n",
       "      <th>8</th>\n",
       "      <td>The third memory is the house we lived .</td>\n",
       "      <td>The third memory is the house where we lived .</td>\n",
       "    </tr>\n",
       "    <tr>\n",
       "      <th>9</th>\n",
       "      <td>I liked the winter Finland .</td>\n",
       "      <td>I liked Finland in the Winter .</td>\n",
       "    </tr>\n",
       "    <tr>\n",
       "      <th>10</th>\n",
       "      <td>And I hope I like the summer Finland .</td>\n",
       "      <td>And I hope I will like Finland in the Summer .</td>\n",
       "    </tr>\n",
       "    <tr>\n",
       "      <th>11</th>\n",
       "      <td>If only I had black dense curtains .</td>\n",
       "      <td>If only I had dense black curtains .</td>\n",
       "    </tr>\n",
       "    <tr>\n",
       "      <th>12</th>\n",
       "      <td>I had been wondering what she was doing .</td>\n",
       "      <td>I had been wondering what she was has been doing .</td>\n",
       "    </tr>\n",
       "    <tr>\n",
       "      <th>13</th>\n",
       "      <td>It said that was disappointing .</td>\n",
       "      <td>It said that it was disappointing .</td>\n",
       "    </tr>\n",
       "    <tr>\n",
       "      <th>14</th>\n",
       "      <td>Old and not beautiful . . . . .</td>\n",
       "      <td>Old and not beautiful . . . . .</td>\n",
       "    </tr>\n",
       "    <tr>\n",
       "      <th>15</th>\n",
       "      <td>Still she has not recovered from them ?</td>\n",
       "      <td>she still has not recovered from them ?</td>\n",
       "    </tr>\n",
       "    <tr>\n",
       "      <th>16</th>\n",
       "      <td>OK , let is all for my first entry .</td>\n",
       "      <td>OK , that is all for my first entry .</td>\n",
       "    </tr>\n",
       "    <tr>\n",
       "      <th>17</th>\n",
       "      <td>Before , I went to a library .</td>\n",
       "      <td>Before , I went to the library .</td>\n",
       "    </tr>\n",
       "    <tr>\n",
       "      <th>18</th>\n",
       "      <td>On the way I had a headache .</td>\n",
       "      <td>On the way I got a headache .</td>\n",
       "    </tr>\n",
       "    <tr>\n",
       "      <th>19</th>\n",
       "      <td>If my sentences are not practical correct them .</td>\n",
       "      <td>If my sentences are not practical , please correct them .</td>\n",
       "    </tr>\n",
       "    <tr>\n",
       "      <th>20</th>\n",
       "      <td>Well , there remains to get it and check it out .</td>\n",
       "      <td>Well , I just have to get it and check it out .</td>\n",
       "    </tr>\n",
       "    <tr>\n",
       "      <th>21</th>\n",
       "      <td>Cooking is not her profession , she is a housewife .</td>\n",
       "      <td>Cooking is not her profession , but rather , she is a housewife .</td>\n",
       "    </tr>\n",
       "    <tr>\n",
       "      <th>22</th>\n",
       "      <td>I rather be working outside than be a housewife .</td>\n",
       "      <td>I would rather be working outside than be a housewife .</td>\n",
       "    </tr>\n",
       "    <tr>\n",
       "      <th>23</th>\n",
       "      <td>I think it is about for one and half year .</td>\n",
       "      <td>I think it is been about one and half years now .</td>\n",
       "    </tr>\n",
       "    <tr>\n",
       "      <th>24</th>\n",
       "      <td>This is my first time to write diary on the internet .</td>\n",
       "      <td>This is my first time writing a diary on the internet .</td>\n",
       "    </tr>\n",
       "    <tr>\n",
       "      <th>25</th>\n",
       "      <td>I hope someone see my diary and correct it .</td>\n",
       "      <td>I hope someone will see my diary and correct it .</td>\n",
       "    </tr>\n",
       "    <tr>\n",
       "      <th>26</th>\n",
       "      <td>I watched DVD Grey is anatomy today .</td>\n",
       "      <td>I watched a DVD of Grey is anatomy today .</td>\n",
       "    </tr>\n",
       "    <tr>\n",
       "      <th>27</th>\n",
       "      <td>Actually I keep watching it these days .</td>\n",
       "      <td>Actually I watch it a lot these days .</td>\n",
       "    </tr>\n",
       "    <tr>\n",
       "      <th>28</th>\n",
       "      <td>So there are a lot to see .</td>\n",
       "      <td>So there is a lot to see .</td>\n",
       "    </tr>\n",
       "    <tr>\n",
       "      <th>29</th>\n",
       "      <td>I do not know medical word in English very much .</td>\n",
       "      <td>I do not know all the medical words in English .</td>\n",
       "    </tr>\n",
       "    <tr>\n",
       "      <th>30</th>\n",
       "      <td>But I can study English through this .</td>\n",
       "      <td>But I can study English with it .</td>\n",
       "    </tr>\n",
       "    <tr>\n",
       "      <th>31</th>\n",
       "      <td>And I think it is fun , right ?</td>\n",
       "      <td>And I think it is fun , right ?</td>\n",
       "    </tr>\n",
       "    <tr>\n",
       "      <th>32</th>\n",
       "      <td>And I am eating a banana every day for my health .</td>\n",
       "      <td>I am eating a banana every day for my health .</td>\n",
       "    </tr>\n",
       "    <tr>\n",
       "      <th>33</th>\n",
       "      <td>The banana is gather in my stomach and gives me energy .</td>\n",
       "      <td>Bananas gives me energy .</td>\n",
       "    </tr>\n",
       "    <tr>\n",
       "      <th>34</th>\n",
       "      <td>I will introduce about my dog , Tiara .</td>\n",
       "      <td>I will introduce my dog , Tiara .</td>\n",
       "    </tr>\n",
       "    <tr>\n",
       "      <th>35</th>\n",
       "      <td>She is a golden retriever and she is years old .</td>\n",
       "      <td>She is an year old golden retriever</td>\n",
       "    </tr>\n",
       "    <tr>\n",
       "      <th>36</th>\n",
       "      <td>Her fur is beautiful amber and soft .</td>\n",
       "      <td>Her fur is a beautiful amber colour and is soft .</td>\n",
       "    </tr>\n",
       "    <tr>\n",
       "      <th>37</th>\n",
       "      <td>When she is basking she looks very comfortable .</td>\n",
       "      <td>When she is basking she looks very content .</td>\n",
       "    </tr>\n",
       "    <tr>\n",
       "      <th>38</th>\n",
       "      <td>however , I hoped rain because it is too hot .</td>\n",
       "      <td>However , I hoped it would rain today because it is too hot .</td>\n",
       "    </tr>\n",
       "    <tr>\n",
       "      <th>39</th>\n",
       "      <td>I saw a news on Yahoo yesterday .</td>\n",
       "      <td>I saw a news article on Yahoo yesterday .</td>\n",
       "    </tr>\n",
       "    <tr>\n",
       "      <th>40</th>\n",
       "      <td>By contrast , men in eastern countries most dress up .</td>\n",
       "      <td>By contrast , men in eastern countries dress up more .</td>\n",
       "    </tr>\n",
       "    <tr>\n",
       "      <th>41</th>\n",
       "      <td>Except a shirt and a jean , we usually wear an accessory .</td>\n",
       "      <td>Apart from a shirt and jeans , we usually wear an accessory .</td>\n",
       "    </tr>\n",
       "    <tr>\n",
       "      <th>42</th>\n",
       "      <td>It almost cost a whole morning .</td>\n",
       "      <td>It almost cost me a whole morning .</td>\n",
       "    </tr>\n",
       "    <tr>\n",
       "      <th>43</th>\n",
       "      <td>I have to watch the NBA final game .</td>\n",
       "      <td>I have to watch the NBA is final game .</td>\n",
       "    </tr>\n",
       "    <tr>\n",
       "      <th>44</th>\n",
       "      <td>I like you give me any commets and opinoins too .</td>\n",
       "      <td>I like you give me any comments and opinions too .</td>\n",
       "    </tr>\n",
       "    <tr>\n",
       "      <th>45</th>\n",
       "      <td>I really like to discuss .</td>\n",
       "      <td>I would really like to discuss .</td>\n",
       "    </tr>\n",
       "    <tr>\n",
       "      <th>46</th>\n",
       "      <td>When I came back home from working today .</td>\n",
       "      <td>When I came back home from work today , my son had diarrhea .</td>\n",
       "    </tr>\n",
       "    <tr>\n",
       "      <th>47</th>\n",
       "      <td>It was like a warter and son is hip became red .</td>\n",
       "      <td>It was like water and his bottom was red .</td>\n",
       "    </tr>\n",
       "    <tr>\n",
       "      <th>48</th>\n",
       "      <td>Tomorrow I will go to hometown .</td>\n",
       "      <td>We were planning to go to my hometown tomorrow .</td>\n",
       "    </tr>\n",
       "    <tr>\n",
       "      <th>49</th>\n",
       "      <td>We are ready to go out .</td>\n",
       "      <td>We were all ready to go .</td>\n",
       "    </tr>\n",
       "  </tbody>\n",
       "</table>\n",
       "</div>"
      ],
      "text/plain": [
       "                                                         error                                                            correct\n",
       "0             And he took in my favorite subject like soccer .                  And he took in my favorite subjects like soccer .\n",
       "1            Actually , who let me know about Lang - was him .         Actually , he was the one who let me know about Lang - . .\n",
       "2                His Kanji is ability is much better than me .                       His Kanji ability is much better than mine .\n",
       "3            I heard a sentence last night when I watched TV .             I heard a sentence last night when I was watching TV .\n",
       "4            When you go uphill , you hvae to bend your back .                  When you go uphill , you have to bend your back .\n",
       "5      When you are go smoothly , you have to be more modest .   When everything is going smoothly , you have to be more modest .\n",
       "6         The making souvenir is a hard and interesting work .                  Making souvenirs is a hard but interesting work .\n",
       "7               You know , you can take them at slot machine .                      You know , you can ? them at a slot machine .\n",
       "8                     The third memory is the house we lived .                     The third memory is the house where we lived .\n",
       "9                                 I liked the winter Finland .                                    I liked Finland in the Winter .\n",
       "10                      And I hope I like the summer Finland .                     And I hope I will like Finland in the Summer .\n",
       "11                        If only I had black dense curtains .                               If only I had dense black curtains .\n",
       "12                   I had been wondering what she was doing .                 I had been wondering what she was has been doing .\n",
       "13                            It said that was disappointing .                                It said that it was disappointing .\n",
       "14                             Old and not beautiful . . . . .                                   Old and not beautiful . . . . . \n",
       "15                     Still she has not recovered from them ?                            she still has not recovered from them ?\n",
       "16                        OK , let is all for my first entry .                              OK , that is all for my first entry .\n",
       "17                              Before , I went to a library .                                   Before , I went to the library .\n",
       "18                               On the way I had a headache .                                      On the way I got a headache .\n",
       "19            If my sentences are not practical correct them .          If my sentences are not practical , please correct them .\n",
       "20           Well , there remains to get it and check it out .                    Well , I just have to get it and check it out .\n",
       "21        Cooking is not her profession , she is a housewife .  Cooking is not her profession , but rather , she is a housewife .\n",
       "22           I rather be working outside than be a housewife .            I would rather be working outside than be a housewife .\n",
       "23                 I think it is about for one and half year .                  I think it is been about one and half years now .\n",
       "24      This is my first time to write diary on the internet .            This is my first time writing a diary on the internet .\n",
       "25                I hope someone see my diary and correct it .                  I hope someone will see my diary and correct it .\n",
       "26                       I watched DVD Grey is anatomy today .                         I watched a DVD of Grey is anatomy today .\n",
       "27                    Actually I keep watching it these days .                             Actually I watch it a lot these days .\n",
       "28                                 So there are a lot to see .                                         So there is a lot to see .\n",
       "29           I do not know medical word in English very much .                   I do not know all the medical words in English .\n",
       "30                      But I can study English through this .                                  But I can study English with it .\n",
       "31                             And I think it is fun , right ?                                   And I think it is fun , right ? \n",
       "32          And I am eating a banana every day for my health .                     I am eating a banana every day for my health .\n",
       "33    The banana is gather in my stomach and gives me energy .                                          Bananas gives me energy .\n",
       "34                     I will introduce about my dog , Tiara .                                  I will introduce my dog , Tiara .\n",
       "35            She is a golden retriever and she is years old .                                She is an year old golden retriever\n",
       "36                       Her fur is beautiful amber and soft .                  Her fur is a beautiful amber colour and is soft .\n",
       "37            When she is basking she looks very comfortable .                       When she is basking she looks very content .\n",
       "38              however , I hoped rain because it is too hot .      However , I hoped it would rain today because it is too hot .\n",
       "39                           I saw a news on Yahoo yesterday .                          I saw a news article on Yahoo yesterday .\n",
       "40      By contrast , men in eastern countries most dress up .             By contrast , men in eastern countries dress up more .\n",
       "41  Except a shirt and a jean , we usually wear an accessory .      Apart from a shirt and jeans , we usually wear an accessory .\n",
       "42                            It almost cost a whole morning .                                It almost cost me a whole morning .\n",
       "43                        I have to watch the NBA final game .                            I have to watch the NBA is final game .\n",
       "44           I like you give me any commets and opinoins too .                 I like you give me any comments and opinions too .\n",
       "45                                  I really like to discuss .                                   I would really like to discuss .\n",
       "46                  When I came back home from working today .      When I came back home from work today , my son had diarrhea .\n",
       "47            It was like a warter and son is hip became red .                         It was like water and his bottom was red .\n",
       "48                            Tomorrow I will go to hometown .                   We were planning to go to my hometown tomorrow .\n",
       "49                                    We are ready to go out .                                          We were all ready to go ."
      ]
     },
     "execution_count": 4,
     "metadata": {
      "tags": []
     },
     "output_type": "execute_result"
    }
   ],
   "source": [
    "pd.options.display.max_colwidth = 500\n",
    "data[:50]"
   ]
  },
  {
   "cell_type": "code",
   "execution_count": 5,
   "metadata": {
    "colab": {
     "base_uri": "https://localhost:8080/",
     "height": 1000
    },
    "id": "6WT44uVrbios",
    "outputId": "b8ab924f-94eb-45e9-b025-ff9f9c797d0b"
   },
   "outputs": [
    {
     "data": {
      "text/html": [
       "<div>\n",
       "<style scoped>\n",
       "    .dataframe tbody tr th:only-of-type {\n",
       "        vertical-align: middle;\n",
       "    }\n",
       "\n",
       "    .dataframe tbody tr th {\n",
       "        vertical-align: top;\n",
       "    }\n",
       "\n",
       "    .dataframe thead th {\n",
       "        text-align: right;\n",
       "    }\n",
       "</style>\n",
       "<table border=\"1\" class=\"dataframe\">\n",
       "  <thead>\n",
       "    <tr style=\"text-align: right;\">\n",
       "      <th></th>\n",
       "      <th>error</th>\n",
       "      <th>correct</th>\n",
       "    </tr>\n",
       "  </thead>\n",
       "  <tbody>\n",
       "    <tr>\n",
       "      <th>50</th>\n",
       "      <td>I am listening to music with the commuter train .</td>\n",
       "      <td>I am listening to music on the commuter train .</td>\n",
       "    </tr>\n",
       "    <tr>\n",
       "      <th>51</th>\n",
       "      <td>Today , I listen the music , it looks like in the cafe .</td>\n",
       "      <td>Today , I listen the music , it feels like I am in a cafe .</td>\n",
       "    </tr>\n",
       "    <tr>\n",
       "      <th>52</th>\n",
       "      <td>Spring is very exciting season .</td>\n",
       "      <td>Spring is a very exciting season .</td>\n",
       "    </tr>\n",
       "    <tr>\n",
       "      <th>53</th>\n",
       "      <td>Japanese school , work starts spring .</td>\n",
       "      <td>In Japan , the new school and work year starts in spring .</td>\n",
       "    </tr>\n",
       "    <tr>\n",
       "      <th>54</th>\n",
       "      <td>I hope to get any quarifications in english .</td>\n",
       "      <td>I hope to become qualified in English .</td>\n",
       "    </tr>\n",
       "    <tr>\n",
       "      <th>55</th>\n",
       "      <td>I hope to get my new promotions .</td>\n",
       "      <td>I hope to get a new promotion .</td>\n",
       "    </tr>\n",
       "    <tr>\n",
       "      <th>56</th>\n",
       "      <td>Everyday starts new thinngs to try .</td>\n",
       "      <td>Everyday , there are new things to try .</td>\n",
       "    </tr>\n",
       "    <tr>\n",
       "      <th>57</th>\n",
       "      <td>. . . No , extremely sometimes .</td>\n",
       "      <td>. . . No , very frequently .</td>\n",
       "    </tr>\n",
       "    <tr>\n",
       "      <th>58</th>\n",
       "      <td>Since today , I am going to try write a diary ! !</td>\n",
       "      <td>Starting today , I am going to try write a diary everyday ! !</td>\n",
       "    </tr>\n",
       "    <tr>\n",
       "      <th>59</th>\n",
       "      <td>Today is nothing specal to write ! !</td>\n",
       "      <td>Today has nothing specal to write ! !</td>\n",
       "    </tr>\n",
       "    <tr>\n",
       "      <th>60</th>\n",
       "      <td>It is kind of Tai - wan stayle massage .</td>\n",
       "      <td>It is a kind of Tai - wan style massage .</td>\n",
       "    </tr>\n",
       "    <tr>\n",
       "      <th>61</th>\n",
       "      <td>After that , I went to a fittness club which has bedrock bathing .</td>\n",
       "      <td>After that , I went to a fitness club which has bedrock bathing .</td>\n",
       "    </tr>\n",
       "    <tr>\n",
       "      <th>62</th>\n",
       "      <td>I feel relax to take a bedrock bath</td>\n",
       "      <td>I felt relaxed to take a bedrock bath</td>\n",
       "    </tr>\n",
       "    <tr>\n",
       "      <th>63</th>\n",
       "      <td>I am went to Sendai to business trip today .</td>\n",
       "      <td>I went to Sendai as a business trip today .</td>\n",
       "    </tr>\n",
       "    <tr>\n",
       "      <th>64</th>\n",
       "      <td>The special product in Sendai is a cow tongue .</td>\n",
       "      <td>The special product of Sendai is a cow is tongue .</td>\n",
       "    </tr>\n",
       "    <tr>\n",
       "      <th>65</th>\n",
       "      <td>I bought it and ate at home .</td>\n",
       "      <td>I bought it and ate it at home .</td>\n",
       "    </tr>\n",
       "    <tr>\n",
       "      <th>66</th>\n",
       "      <td>I want to eat its cow tongue again .</td>\n",
       "      <td>I want to eat this cow is tongue again .</td>\n",
       "    </tr>\n",
       "    <tr>\n",
       "      <th>67</th>\n",
       "      <td>The daughter was woken up by my wife .</td>\n",
       "      <td>My daughter She was woken up by my wife .</td>\n",
       "    </tr>\n",
       "    <tr>\n",
       "      <th>68</th>\n",
       "      <td>The wife was woken up by my stertor .</td>\n",
       "      <td>The wife was woken up by my stertor snoring .</td>\n",
       "    </tr>\n",
       "    <tr>\n",
       "      <th>69</th>\n",
       "      <td>Where to do it and when we should leave is not decided yet !</td>\n",
       "      <td>Where to hold it and when we should leave has not been decided yet !</td>\n",
       "    </tr>\n",
       "    <tr>\n",
       "      <th>70</th>\n",
       "      <td>And I want to live my life on my own pace .</td>\n",
       "      <td>And I want to live my life at my own pace .</td>\n",
       "    </tr>\n",
       "    <tr>\n",
       "      <th>71</th>\n",
       "      <td>Because when I finished my classes , homeworks or jobs etc . . .</td>\n",
       "      <td>Because when I have finished my classes , homework or jobs etc . . .</td>\n",
       "    </tr>\n",
       "    <tr>\n",
       "      <th>72</th>\n",
       "      <td>It is nearly pm when I back home .</td>\n",
       "      <td>It is nearly pm when I get back home .</td>\n",
       "    </tr>\n",
       "    <tr>\n",
       "      <th>73</th>\n",
       "      <td>It is nearlly pm .</td>\n",
       "      <td>It is nearly pm .</td>\n",
       "    </tr>\n",
       "    <tr>\n",
       "      <th>74</th>\n",
       "      <td>These days I suffered many unhappy things .</td>\n",
       "      <td>I have been suffering many unhappy things these days .</td>\n",
       "    </tr>\n",
       "    <tr>\n",
       "      <th>75</th>\n",
       "      <td>I do not know how to master this language well . . .</td>\n",
       "      <td>I do not know how to master this language . . .</td>\n",
       "    </tr>\n",
       "    <tr>\n",
       "      <th>76</th>\n",
       "      <td>I should to study again .</td>\n",
       "      <td>I should study again .</td>\n",
       "    </tr>\n",
       "    <tr>\n",
       "      <th>77</th>\n",
       "      <td>I am got up at thirty past am in Japan .</td>\n",
       "      <td>I got up at am in Japan .</td>\n",
       "    </tr>\n",
       "    <tr>\n",
       "      <th>78</th>\n",
       "      <td>I hope you make many friends of the lang - .</td>\n",
       "      <td>I hope to make many friends on lang - .</td>\n",
       "    </tr>\n",
       "    <tr>\n",
       "      <th>79</th>\n",
       "      <td>Election will be done Augst .</td>\n",
       "      <td>Elections will be held on August th .</td>\n",
       "    </tr>\n",
       "    <tr>\n",
       "      <th>80</th>\n",
       "      <td>Mayer is cheering Hamada minister of defence .</td>\n",
       "      <td>The Mayer is supporting Hamada for the minister of defense .</td>\n",
       "    </tr>\n",
       "    <tr>\n",
       "      <th>81</th>\n",
       "      <td>Hamada birong to Liberal Democratic Party .</td>\n",
       "      <td>Hamada belong is to the Liberal Democratic Party .</td>\n",
       "    </tr>\n",
       "    <tr>\n",
       "      <th>82</th>\n",
       "      <td>This time they may be lost adoministration .</td>\n",
       "      <td>This time they may lose administration .</td>\n",
       "    </tr>\n",
       "    <tr>\n",
       "      <th>83</th>\n",
       "      <td>Democratic Party has more many supporters than them .</td>\n",
       "      <td>The Democratic Party has more supporters than they do .</td>\n",
       "    </tr>\n",
       "    <tr>\n",
       "      <th>84</th>\n",
       "      <td>Mayer is busy with election campaign and his own work .</td>\n",
       "      <td>The Mayer is busy with the election campaign as well as his own work .</td>\n",
       "    </tr>\n",
       "    <tr>\n",
       "      <th>85</th>\n",
       "      <td>I am going to do everyting for help him as his secretary .</td>\n",
       "      <td>I am going to helping him with his work as his secretary .</td>\n",
       "    </tr>\n",
       "    <tr>\n",
       "      <th>86</th>\n",
       "      <td>I went to Kanazawa university festival with my American friend .</td>\n",
       "      <td>I went to a Kanazawa University festival with my American friend .</td>\n",
       "    </tr>\n",
       "    <tr>\n",
       "      <th>87</th>\n",
       "      <td>I made good friend with Vietnamese .</td>\n",
       "      <td>I made a good friend with a Vietnamese .</td>\n",
       "    </tr>\n",
       "    <tr>\n",
       "      <th>88</th>\n",
       "      <td>And we had a dinner with my another friends .</td>\n",
       "      <td>And we had dinner with my other friends .</td>\n",
       "    </tr>\n",
       "    <tr>\n",
       "      <th>89</th>\n",
       "      <td>It is a amazing day today .</td>\n",
       "      <td>. Today was an amazing day .</td>\n",
       "    </tr>\n",
       "    <tr>\n",
       "      <th>90</th>\n",
       "      <td>It is made of spnge It is cute .</td>\n",
       "      <td>It is made of sponge It is cute .</td>\n",
       "    </tr>\n",
       "    <tr>\n",
       "      <th>91</th>\n",
       "      <td>I will enter the Berklee in the fall semester this year .</td>\n",
       "      <td>I will enter go to Berklee in the fall semester this year .</td>\n",
       "    </tr>\n",
       "    <tr>\n",
       "      <th>92</th>\n",
       "      <td>But I have two worries .</td>\n",
       "      <td>However I have two worries .</td>\n",
       "    </tr>\n",
       "    <tr>\n",
       "      <th>93</th>\n",
       "      <td>One of them is that my English is very clumsy yet .</td>\n",
       "      <td>One of them is that my English is still very clumsy .</td>\n",
       "    </tr>\n",
       "    <tr>\n",
       "      <th>94</th>\n",
       "      <td>Another is high - priced tuition .</td>\n",
       "      <td>Another is the high - priced tuition fees .</td>\n",
       "    </tr>\n",
       "    <tr>\n",
       "      <th>95</th>\n",
       "      <td>The Berklee do not requires a TOEFL score .</td>\n",
       "      <td>Berklee do not requires a TOEFL score .</td>\n",
       "    </tr>\n",
       "    <tr>\n",
       "      <th>96</th>\n",
       "      <td>Many assignments are given to me everyday .</td>\n",
       "      <td>I have a lot of assignments everyday .</td>\n",
       "    </tr>\n",
       "    <tr>\n",
       "      <th>97</th>\n",
       "      <td>I am laerning English , but it is really difficult for me !</td>\n",
       "      <td>I am learning English , but it is really difficult for me !</td>\n",
       "    </tr>\n",
       "    <tr>\n",
       "      <th>98</th>\n",
       "      <td>I was very scary because I had been very healthy so far .</td>\n",
       "      <td>I was very scared because I had been very healthy so far .</td>\n",
       "    </tr>\n",
       "    <tr>\n",
       "      <th>99</th>\n",
       "      <td>I am still in the is .</td>\n",
       "      <td>I am still in my is .</td>\n",
       "    </tr>\n",
       "  </tbody>\n",
       "</table>\n",
       "</div>"
      ],
      "text/plain": [
       "                                                                 error                                                                 correct\n",
       "50                   I am listening to music with the commuter train .                         I am listening to music on the commuter train .\n",
       "51            Today , I listen the music , it looks like in the cafe .             Today , I listen the music , it feels like I am in a cafe .\n",
       "52                                    Spring is very exciting season .                                      Spring is a very exciting season .\n",
       "53                              Japanese school , work starts spring .              In Japan , the new school and work year starts in spring .\n",
       "54                       I hope to get any quarifications in english .                                 I hope to become qualified in English .\n",
       "55                                   I hope to get my new promotions .                                         I hope to get a new promotion .\n",
       "56                                Everyday starts new thinngs to try .                                Everyday , there are new things to try .\n",
       "57                                    . . . No , extremely sometimes .                                            . . . No , very frequently .\n",
       "58                   Since today , I am going to try write a diary ! !           Starting today , I am going to try write a diary everyday ! !\n",
       "59                                Today is nothing specal to write ! !                                   Today has nothing specal to write ! !\n",
       "60                            It is kind of Tai - wan stayle massage .                               It is a kind of Tai - wan style massage .\n",
       "61  After that , I went to a fittness club which has bedrock bathing .       After that , I went to a fitness club which has bedrock bathing .\n",
       "62                                I feel relax to take a bedrock bath                                   I felt relaxed to take a bedrock bath \n",
       "63                        I am went to Sendai to business trip today .                             I went to Sendai as a business trip today .\n",
       "64                     The special product in Sendai is a cow tongue .                      The special product of Sendai is a cow is tongue .\n",
       "65                                       I bought it and ate at home .                                        I bought it and ate it at home .\n",
       "66                                I want to eat its cow tongue again .                                I want to eat this cow is tongue again .\n",
       "67                              The daughter was woken up by my wife .                               My daughter She was woken up by my wife .\n",
       "68                               The wife was woken up by my stertor .                           The wife was woken up by my stertor snoring .\n",
       "69        Where to do it and when we should leave is not decided yet !    Where to hold it and when we should leave has not been decided yet !\n",
       "70                         And I want to live my life on my own pace .                             And I want to live my life at my own pace .\n",
       "71    Because when I finished my classes , homeworks or jobs etc . . .    Because when I have finished my classes , homework or jobs etc . . .\n",
       "72                                  It is nearly pm when I back home .                                  It is nearly pm when I get back home .\n",
       "73                                                  It is nearlly pm .                                                       It is nearly pm .\n",
       "74                         These days I suffered many unhappy things .                  I have been suffering many unhappy things these days .\n",
       "75                I do not know how to master this language well . . .                         I do not know how to master this language . . .\n",
       "76                                           I should to study again .                                                  I should study again .\n",
       "77                            I am got up at thirty past am in Japan .                                               I got up at am in Japan .\n",
       "78                        I hope you make many friends of the lang - .                                 I hope to make many friends on lang - .\n",
       "79                                       Election will be done Augst .                                   Elections will be held on August th .\n",
       "80                      Mayer is cheering Hamada minister of defence .            The Mayer is supporting Hamada for the minister of defense .\n",
       "81                         Hamada birong to Liberal Democratic Party .                      Hamada belong is to the Liberal Democratic Party .\n",
       "82                        This time they may be lost adoministration .                                This time they may lose administration .\n",
       "83               Democratic Party has more many supporters than them .                 The Democratic Party has more supporters than they do .\n",
       "84             Mayer is busy with election campaign and his own work .  The Mayer is busy with the election campaign as well as his own work .\n",
       "85          I am going to do everyting for help him as his secretary .              I am going to helping him with his work as his secretary .\n",
       "86    I went to Kanazawa university festival with my American friend .      I went to a Kanazawa University festival with my American friend .\n",
       "87                                I made good friend with Vietnamese .                                I made a good friend with a Vietnamese .\n",
       "88                       And we had a dinner with my another friends .                               And we had dinner with my other friends .\n",
       "89                                         It is a amazing day today .                                            . Today was an amazing day .\n",
       "90                                    It is made of spnge It is cute .                                       It is made of sponge It is cute .\n",
       "91           I will enter the Berklee in the fall semester this year .             I will enter go to Berklee in the fall semester this year .\n",
       "92                                            But I have two worries .                                            However I have two worries .\n",
       "93                 One of them is that my English is very clumsy yet .                   One of them is that my English is still very clumsy .\n",
       "94                                  Another is high - priced tuition .                             Another is the high - priced tuition fees .\n",
       "95                         The Berklee do not requires a TOEFL score .                                 Berklee do not requires a TOEFL score .\n",
       "96                         Many assignments are given to me everyday .                                  I have a lot of assignments everyday .\n",
       "97         I am laerning English , but it is really difficult for me !             I am learning English , but it is really difficult for me !\n",
       "98           I was very scary because I had been very healthy so far .              I was very scared because I had been very healthy so far .\n",
       "99                                              I am still in the is .                                                   I am still in my is ."
      ]
     },
     "execution_count": 5,
     "metadata": {
      "tags": []
     },
     "output_type": "execute_result"
    }
   ],
   "source": [
    "data[50:100]"
   ]
  },
  {
   "cell_type": "markdown",
   "metadata": {
    "id": "hWtX9uQTzNWo"
   },
   "source": [
    "Since preprocessing of data is already done before, all we do is add the tokens required to feed the data into our Encoder Decoder model with attention.\n",
    "We implement the teacher forcing approach such that the the data looks like this: \n",
    "1. Encoder input: \n",
    "```\n",
    "<start> Hello how are youz ? <end>\n",
    "```\n",
    "2. Decoder input: \n",
    "```\n",
    "<start> Hello how are you ?\n",
    "```\n",
    "3. Decoder output: \n",
    "```\n",
    "Hello how are you? <end>\n",
    "```\n",
    "\n",
    "This allows the decoder to always stay one step ahead during learning. "
   ]
  },
  {
   "cell_type": "code",
   "execution_count": 5,
   "metadata": {
    "id": "xhKEmu57yGpJ"
   },
   "outputs": [],
   "source": [
    "def preprocess(t, add_start_token, add_end_token):\n",
    "\n",
    "  if add_start_token == True and add_end_token == False:\n",
    "    t = '<start>'+' '+t\n",
    "  if add_start_token == False and add_end_token == True:\n",
    "    t = t+' '+'<end>'\n",
    "  if add_start_token == True and add_end_token == True:\n",
    "    t = '<start>'+' '+t+' '+'<end>'\n",
    "\n",
    "  t = re.sub(' +', ' ', t)\n",
    "  return t"
   ]
  },
  {
   "cell_type": "code",
   "execution_count": 6,
   "metadata": {
    "id": "U1SusqcE0z3r"
   },
   "outputs": [],
   "source": [
    "encoder_input = [preprocess(line, add_start_token= True, add_end_token=True) for line in data['error']]\n",
    "decoder_input = [preprocess(line, add_start_token= True, add_end_token=False) for line in data['correct']]\n",
    "decoder_output = [preprocess(line, add_start_token= False, add_end_token=True) for line in data['correct']]"
   ]
  },
  {
   "cell_type": "code",
   "execution_count": 7,
   "metadata": {
    "colab": {
     "base_uri": "https://localhost:8080/"
    },
    "id": "y8YdXBvlzLoU",
    "outputId": "1a8f6ff4-7562-46e6-a04c-f8ac337fc4fa"
   },
   "outputs": [
    {
     "name": "stdout",
     "output_type": "stream",
     "text": [
      "<start> And he took in my favorite subject like soccer . <end>\n",
      "<start> And he took in my favorite subjects like soccer .\n",
      "And he took in my favorite subjects like soccer . <end>\n"
     ]
    }
   ],
   "source": [
    "print(encoder_input[0])\n",
    "print(decoder_input[0])\n",
    "print(decoder_output[0])"
   ]
  },
  {
   "cell_type": "markdown",
   "metadata": {
    "id": "8nUPSOuT3wuM"
   },
   "source": [
    "Tokenization :"
   ]
  },
  {
   "cell_type": "code",
   "execution_count": 8,
   "metadata": {
    "colab": {
     "base_uri": "https://localhost:8080/"
    },
    "id": "hztgvaN838Ua",
    "outputId": "0c1c42eb-295c-4776-9ae1-c7dedcab1f9c"
   },
   "outputs": [
    {
     "name": "stdout",
     "output_type": "stream",
     "text": [
      "(288041, 17)\n"
     ]
    }
   ],
   "source": [
    "#ENCODER INPUT\n",
    "\n",
    "tokenizer = Tokenizer(filters='', split=\" \")\n",
    "tokenizer.fit_on_texts(encoder_input)\n",
    "word_index = tokenizer.word_index #vocabulary\n",
    "\n",
    "max_length = max([ len(row.split(\" \")) for row in encoder_input ])\n",
    "INPUT_ENCODER_LENGTH = max_length\n",
    "\n",
    "enc_input_encoded = tokenizer.texts_to_sequences(encoder_input)\n",
    "enc_input_padded= pad_sequences(enc_input_encoded, maxlen=INPUT_ENCODER_LENGTH, padding=\"post\")\n",
    "\n",
    "print(enc_input_padded.shape)"
   ]
  },
  {
   "cell_type": "code",
   "execution_count": 10,
   "metadata": {
    "colab": {
     "base_uri": "https://localhost:8080/"
    },
    "id": "Mr4-JMOx4FyV",
    "outputId": "aedcf027-c412-4205-ea84-3b688fba69a7"
   },
   "outputs": [
    {
     "name": "stdout",
     "output_type": "stream",
     "text": [
      "<start> And he took in my favorite subject like soccer . <end>\n",
      "[  1  11  46 177  13  10 280 901  39 615   3   2   0   0   0   0   0]\n"
     ]
    }
   ],
   "source": [
    "print(encoder_input[0])\n",
    "print(enc_input_padded[0])"
   ]
  },
  {
   "cell_type": "code",
   "execution_count": 11,
   "metadata": {
    "id": "zgkbjovQ4N2d"
   },
   "outputs": [],
   "source": [
    "#DECODER INPUT\n",
    "decoder_data = decoder_input.copy()\n",
    "decoder_data.extend(decoder_output)\n",
    "\n",
    "out_tokenizer = Tokenizer(filters='', split=\" \")\n",
    "out_tokenizer.fit_on_texts(decoder_data)\n",
    "word_index = out_tokenizer.word_index #vocabulary\n",
    "\n",
    "max_length = max([ len(row.split(\" \")) for row in decoder_input ])\n",
    "INPUT_DECODER_LENGTH = max_length"
   ]
  },
  {
   "cell_type": "code",
   "execution_count": 13,
   "metadata": {
    "colab": {
     "base_uri": "https://localhost:8080/"
    },
    "id": "PBm4qoCL4VSV",
    "outputId": "118cae61-7802-4276-f631-77b1a1554378"
   },
   "outputs": [
    {
     "name": "stdout",
     "output_type": "stream",
     "text": [
      "(288041, 29)\n"
     ]
    }
   ],
   "source": [
    "dec_input_encoded = out_tokenizer.texts_to_sequences(decoder_input)\n",
    "dec_input_padded= pad_sequences(dec_input_encoded, maxlen=INPUT_DECODER_LENGTH, padding=\"post\", truncating = \"post\")\n",
    "\n",
    "print(dec_input_padded.shape)"
   ]
  },
  {
   "cell_type": "code",
   "execution_count": 14,
   "metadata": {
    "colab": {
     "base_uri": "https://localhost:8080/"
    },
    "id": "yag0NB3y4YRc",
    "outputId": "be58f43a-7a74-44d7-aea6-4df65cd703a2"
   },
   "outputs": [
    {
     "name": "stdout",
     "output_type": "stream",
     "text": [
      "<start> And he took in my favorite subjects like soccer .\n",
      "[   3   12   46  178   13   10  266 1499   41  608    1    0    0    0\n",
      "    0    0    0    0    0    0    0    0    0    0    0    0    0    0\n",
      "    0]\n"
     ]
    }
   ],
   "source": [
    "print(decoder_input[0])\n",
    "print(dec_input_padded[0])"
   ]
  },
  {
   "cell_type": "code",
   "execution_count": 15,
   "metadata": {
    "colab": {
     "base_uri": "https://localhost:8080/"
    },
    "id": "Z-Z6X-VZ4bB0",
    "outputId": "68910cfc-a3ee-4f70-d2b6-e98ac4863282"
   },
   "outputs": [
    {
     "name": "stdout",
     "output_type": "stream",
     "text": [
      "(288041, 29)\n"
     ]
    }
   ],
   "source": [
    "dec_output_encoded = out_tokenizer.texts_to_sequences(decoder_output)\n",
    "dec_output_padded= pad_sequences(dec_output_encoded, maxlen=INPUT_DECODER_LENGTH, padding=\"post\", truncating = \"post\")\n",
    "\n",
    "print(dec_output_padded.shape)"
   ]
  },
  {
   "cell_type": "code",
   "execution_count": 16,
   "metadata": {
    "colab": {
     "base_uri": "https://localhost:8080/"
    },
    "id": "NgwK-YoJ4gaL",
    "outputId": "9025280e-6c24-478d-f407-c7a4f8627cb0"
   },
   "outputs": [
    {
     "name": "stdout",
     "output_type": "stream",
     "text": [
      "Actually , he was the one who let me know about Lang - . . <end>\n",
      "[269   6  46  17   5  60 106 316  26  74  37 169  44   1   1   4   0   0\n",
      "   0   0   0   0   0   0   0   0   0   0   0]\n"
     ]
    }
   ],
   "source": [
    "print(decoder_output[1])\n",
    "print(dec_output_padded[1])"
   ]
  },
  {
   "cell_type": "markdown",
   "metadata": {
    "id": "0xDyXnPO7TZq"
   },
   "source": [
    "#### ATTENTION MODEL "
   ]
  },
  {
   "cell_type": "markdown",
   "metadata": {
    "id": "q3b35olwHVh_"
   },
   "source": [
    "- **Model Architecture** consists of an encoder, attention and decoder blocks subclassed from tf.keras.layers.layer class and the final encoder decoder implementation, which is subclassed from tf.keras.Model class\n",
    "- **Input to model** is a tuple of encoder input and decoder input of size (batch_size, encoder_input_size) and (batch_size, decoder_input_size) and target output for decoder of size (batch_size, decoder_input_size)\n",
    "- **Output of the model** is of shape (batch_size, decoder_input_size, output_vocab_size) or a dense tensor\n",
    "- **Loss** used is sparse categorical cross entropy which takes input y_true as a sparse tensor, and y_pred as a dense tensor\n",
    "- **Metric** used is F beta score with beta = 0.5 which takes sparse y_true and y_pred, so we convert y_pred into a sparse tensor\n",
    "- **Attention scoring function** used is the dot scoring function"
   ]
  },
  {
   "cell_type": "markdown",
   "metadata": {
    "id": "UcwYapOFxaZF"
   },
   "source": [
    "Attention mechanism:\n",
    "![attention.png](data:image/png;base64,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)\n",
    "\n",
    "Reference: https://lilianweng.github.io/lil-log/2018/06/24/attention-attention.html\n",
    "\n"
   ]
  },
  {
   "cell_type": "markdown",
   "metadata": {
    "id": "4Iefq121JBUo"
   },
   "source": [
    "The blue blocks on the left bottom denoted by hs bar represents the **encoder output** for all the timesteps. Since there are five blocks shown, we can imagine that the encoder input had five words, which were fed to the encoder block at every timesteps, giving us the output of the encoder at every timestep.\n",
    "\n",
    "The maroon blocks on the right bottom denoted by ht represents the **decoder hidden state** at every timestep, so for simplicity let's assume the last block is decoding the second word of the input sentence.\n",
    "\n",
    "As shown on the left image, while decoding, for each step, a **context vector**, ct is created from the encoder output. If **global attention** is used, all the encoder ouputs (i.e. at all timesteps) are used to create this vector. This vector is actually just the sum of the multiplication of each of the output with an **attention weight**. at denotes the vector containing all the attention weight for each timestep. \n",
    "\n",
    "To get this attention weight, we use scoring functions and apply it on the encoder output and the decoder hidden states. For e.g., if we are using the dot product scoring function we simply take the dot product of the encoder states and the decoder hidden state to get the attention weight. This weight tells us how much importance or context does each of the encoder state give us for the current decoder state.\n",
    "\n",
    "For **local attention** as shown on the right, we only use the encoder states in the vicinity of the timestep the decoder is at.\n",
    "\n",
    "Finally, we concatenate the current decoder hidden state ht with the context vector ct and feed it to the decoder to get the next decoder hidden state ht~.\n"
   ]
  },
  {
   "cell_type": "markdown",
   "metadata": {
    "id": "3OeVMvPBJRX2"
   },
   "source": [
    "Load FastText embeddings"
   ]
  },
  {
   "cell_type": "code",
   "execution_count": 17,
   "metadata": {
    "colab": {
     "base_uri": "https://localhost:8080/"
    },
    "id": "YHUbIbNiJUWR",
    "outputId": "acecc417-1525-4a17-8eae-629b3a7deecd"
   },
   "outputs": [
    {
     "name": "stdout",
     "output_type": "stream",
     "text": [
      "(52383, 300) (41061, 300)\n"
     ]
    }
   ],
   "source": [
    "in_embedding_matrix = np.load('drive/MyDrive/GEC/in_embedding.npy')\n",
    "out_embedding_matrix = np.load('drive/MyDrive/GEC/out_embedding.npy')\n",
    "print(in_embedding_matrix.shape, out_embedding_matrix.shape)"
   ]
  },
  {
   "cell_type": "code",
   "execution_count": 18,
   "metadata": {
    "id": "S9UFGA98wcUP"
   },
   "outputs": [],
   "source": [
    "class Encoder(tf.keras.Model):\n",
    "    def __init__(self,inp_vocab_size,embedding_size,lstm_size,input_length):\n",
    "        super().__init__()\n",
    "        self.vocab_size = inp_vocab_size\n",
    "        self.embedding_size = embedding_size\n",
    "        self.lstm_units = lstm_size\n",
    "        self.input_length = input_length\n",
    "\n",
    "    def build(self, input_sequence):\n",
    "        self.embedding = Embedding(input_dim=self.vocab_size, output_dim=self.embedding_size, input_length=self.input_length, \n",
    "                                   weights = [in_embedding_matrix], mask_zero=True, \n",
    "                                   trainable = False, name=\"embedding_layer_encoder\")\n",
    "        self.lstm = LSTM(self.lstm_units, return_state=True, return_sequences=True, name=\"Encoder_LSTM\")\n",
    "\n",
    "\n",
    "    def call(self,input_sequence,states):\n",
    "\n",
    "        input_embedding = self.embedding(input_sequence)   #(batch_size, length of input array, embedding_size)\n",
    "\n",
    "        self.lstm_output, self.state_h, self.state_c = self.lstm(input_embedding, initial_state= states)  \n",
    "        \n",
    "        return self.lstm_output, self.state_h, self.state_c\n",
    "\n",
    "    \n",
    "    def initialize_states(self,batch_size):\n",
    "\n",
    "      lstm_state_h = tf.zeros((batch_size, self.lstm_units), dtype=tf.dtypes.float32, name=\"Encoder_LSTM_hidden_state\")\n",
    "      lstm_state_c = tf.zeros((batch_size, self.lstm_units), dtype=tf.dtypes.float32, name=\"Encoder_LSTM_cell_state\")\n",
    "\n",
    "      return lstm_state_h, lstm_state_c      \n"
   ]
  },
  {
   "cell_type": "code",
   "execution_count": 19,
   "metadata": {
    "id": "h2OFtPYawcUQ"
   },
   "outputs": [],
   "source": [
    "def dot_func(encoder_output, decoder_hidden_state):\n",
    "  decoder_hidden_state = tf.reshape(decoder_hidden_state, [decoder_hidden_state.shape[0],1,decoder_hidden_state.shape[1]])\n",
    "  dot_product = tf.matmul(encoder_output, decoder_hidden_state, transpose_b = True) #(16,10,32) and (16,1,32).T => (16,10,1)\n",
    "  return dot_product"
   ]
  },
  {
   "cell_type": "code",
   "execution_count": 20,
   "metadata": {
    "id": "kCSXkjZXwcUQ"
   },
   "outputs": [],
   "source": [
    "class Attention(tf.keras.layers.Layer):\n",
    "\n",
    "  def __init__(self,scoring_function, att_units):\n",
    "    super().__init__()\n",
    "    \n",
    "    self.scoring_function = scoring_function\n",
    "    self.att_units = att_units\n",
    "    self.timesteps = 0\n",
    "\n",
    "  def build(self, data_shape):\n",
    "      self.encoder_units = data_shape[1]  #Only the TensorShape object for decoder_hidden_state passed\n",
    "  \n",
    "  def call(self,decoder_hidden_state,encoder_output):\n",
    "\n",
    "    if self.scoring_function == 'dot':\n",
    "        alpha_ = tf.nn.softmax(dot_func(encoder_output, decoder_hidden_state), axis = 1)  #(batch_size, timesteps, 1), Take softmax along timestep axis\n",
    "        c_t = sum([alpha_[:,i,]*encoder_output[:,i,:] for i in range(alpha_.shape[1])])\n",
    "        c_t = tf.convert_to_tensor(c_t, dtype= tf.float32)\n",
    "        return c_t, alpha_\n",
    "    \n",
    "    "
   ]
  },
  {
   "cell_type": "code",
   "execution_count": 21,
   "metadata": {
    "id": "p1A2TZPQwcUQ"
   },
   "outputs": [],
   "source": [
    "class One_Step_Decoder(tf.keras.Model):\n",
    "  def __init__(self,tar_vocab_size, embedding_dim, input_length, dec_units ,score_fun ,att_units):\n",
    "      super().__init__()\n",
    "\n",
    "      self.dec_units = dec_units\n",
    "      self.att_units = att_units\n",
    "      self.tar_vocab_size = tar_vocab_size\n",
    "      self.embedding_dim = embedding_dim\n",
    "      self.input_length = input_length\n",
    "      self.score_fun = score_fun\n",
    "      self.dense = Dense(self.tar_vocab_size)\n",
    "\n",
    "  def build(self,input):\n",
    "      self.embedding = Embedding(input_dim=self.tar_vocab_size, output_dim=self.embedding_dim, input_length=self.input_length, \n",
    "                                   weights = [out_embedding_matrix], mask_zero=True, \n",
    "                                   trainable = False, name=\"embedding_layer_decoder\") \n",
    "      self.lstm = LSTM(self.dec_units, return_state=True, return_sequences=True, name=\"One_step_decoder_LSTM\")\n",
    "\n",
    "\n",
    "  def call(self,input_to_decoder, encoder_output, state_h,state_c):\n",
    "\n",
    "    input_embedding = self.embedding(input_to_decoder)\n",
    "    \n",
    "    if self.score_fun == 'dot':\n",
    "      attention=Attention('dot',self.att_units)\n",
    "      context_vector,attention_weights=attention(state_h,encoder_output)\n",
    "\n",
    "    out = tf.concat([input_embedding,tf.expand_dims(context_vector, axis = 1)], axis =2)  #(batch_size, 1, embedding_dim+att_units)\n",
    "\n",
    "    self.lstm_output, self.state_h, self.state_c = self.lstm(out, initial_state=[state_h, state_c])\n",
    "    result_out = self.dense(self.lstm_output)\n",
    "\n",
    "    return  tf.squeeze(result_out) , self.state_h,self.state_c, attention_weights, context_vector\n"
   ]
  },
  {
   "cell_type": "code",
   "execution_count": 22,
   "metadata": {
    "id": "2CaVq55PwcUQ"
   },
   "outputs": [],
   "source": [
    "class Decoder(tf.keras.Model):\n",
    "    def __init__(self,out_vocab_size, embedding_dim, input_length, dec_units ,score_fun ,att_units):\n",
    "      super().__init__()\n",
    "      self.dec_units = dec_units\n",
    "      self.att_units = att_units\n",
    "      self.out_vocab_size = out_vocab_size\n",
    "      self.embedding_dim = embedding_dim\n",
    "      self.input_length = input_length\n",
    "      self.score_fun = score_fun\n",
    "      self.one_step_decoder = One_Step_Decoder(self.out_vocab_size, self.embedding_dim, self.input_length, self.dec_units ,self.score_fun ,self.att_units)\n",
    "\n",
    "    def call(self, input_to_decoder,encoder_output,decoder_hidden_state,decoder_cell_state ):\n",
    "        out_array = tf.TensorArray(tf.float32, size = input_to_decoder.shape[1], name = 'out_array')\n",
    "\n",
    "        for timestep in range(input_to_decoder.shape[1]): \n",
    "          output,decoder_hidden_state,decoder_cell_state,attention_weights, context_vector= self.one_step_decoder(input_to_decoder[:,timestep:timestep+1],encoder_output,decoder_hidden_state,decoder_cell_state)\n",
    "\n",
    "          out_array = out_array.write(timestep, output) \n",
    "\n",
    "        out_array = tf.transpose(out_array.stack(), [1,0,2])\n",
    "        return out_array\n",
    "        \n",
    "        \n",
    "    "
   ]
  },
  {
   "cell_type": "code",
   "execution_count": 23,
   "metadata": {
    "colab": {
     "base_uri": "https://localhost:8080/"
    },
    "id": "WBdUkaihwcUR",
    "outputId": "80fbcd85-b561-4b2c-bdaf-958602a38df6"
   },
   "outputs": [
    {
     "name": "stdout",
     "output_type": "stream",
     "text": [
      "52383 17 41061 29 16\n"
     ]
    }
   ],
   "source": [
    "INPUT_VOCAB_SIZE = len(list(tokenizer.word_index)) +2 #for zero padding\n",
    "OUTPUT_VOCAB_SIZE = len(list(out_tokenizer.word_index)) +2 #for zero padding\n",
    "BATCH_SIZE = 16\n",
    "print(INPUT_VOCAB_SIZE, INPUT_ENCODER_LENGTH, OUTPUT_VOCAB_SIZE, INPUT_DECODER_LENGTH, BATCH_SIZE)"
   ]
  },
  {
   "cell_type": "code",
   "execution_count": 24,
   "metadata": {
    "id": "DXDi6iKDwcUR"
   },
   "outputs": [],
   "source": [
    "class encoder_decoder(tf.keras.Model):\n",
    "  def __init__(self, enc_units, dec_units, scoring_func, att_units):\n",
    "    super().__init__()\n",
    "    self.scoring_func = scoring_func\n",
    "    self.att_units = att_units\n",
    "    self.dec_units = dec_units\n",
    "    self.enc_units = enc_units\n",
    "    self.encoder = Encoder(INPUT_VOCAB_SIZE, embedding_size = 300, lstm_size= self.enc_units , input_length= INPUT_ENCODER_LENGTH)\n",
    "    self.decoder = Decoder(OUTPUT_VOCAB_SIZE, embedding_dim = 300, input_length = None, dec_units= self.dec_units ,score_fun =self.scoring_func,att_units = self.att_units)\n",
    "\n",
    "  \n",
    "  def call(self,data):\n",
    "\n",
    "    input, output = data[0], data[1]\n",
    "    states = self.encoder.initialize_states(input.shape[0])\n",
    "    encoder_output,encoder_final_state_h,encoder_final_state_c = self.encoder(input, states)\n",
    "    decoder_output = self.decoder(output,encoder_output, encoder_final_state_h, encoder_final_state_c)\n",
    "\n",
    "    return decoder_output"
   ]
  },
  {
   "cell_type": "code",
   "execution_count": 25,
   "metadata": {
    "id": "WKCmYuk0wcUR"
   },
   "outputs": [],
   "source": [
    "#https://www.tensorflow.org/tutorials/text/image_captioning#model\n",
    "loss_object = tf.keras.losses.SparseCategoricalCrossentropy(\n",
    "    from_logits=True, reduction='none'\n",
    ")\n",
    "\n",
    "def loss_function(real, pred):\n",
    "    mask = tf.math.logical_not(tf.math.equal(real, 0))\n",
    "    loss_ = loss_object(real, pred)\n",
    "\n",
    "    mask = tf.cast(mask, dtype=loss_.dtype)\n",
    "    loss_ *= mask\n",
    "\n",
    "    return tf.reduce_mean(loss_)"
   ]
  },
  {
   "cell_type": "markdown",
   "metadata": {
    "id": "h5SgM7yWHtPA"
   },
   "source": [
    "#### Prepare data for feeding to model"
   ]
  },
  {
   "cell_type": "code",
   "execution_count": 34,
   "metadata": {
    "id": "MBr6D__YDFeq"
   },
   "outputs": [],
   "source": [
    "#split into train and test from a tf.data object: https://stackoverflow.com/questions/48213766/split-a-dataset-created-by-tensorflow-dataset-api-in-to-train-and-test\n",
    "NUMBER_OF_DATAPOINTS = 10000\n",
    "\n",
    "tf.random.set_seed(32)\n",
    "\n",
    "encoder_input_datatset = tf.data.Dataset.from_tensor_slices(enc_input_padded)\n",
    "decoder_input_datatset = tf.data.Dataset.from_tensor_slices(dec_input_padded)\n",
    "decoder_output_datatset = tf.data.Dataset.from_tensor_slices(dec_output_padded)\n",
    "\n",
    "full_dataset =  tf.data.Dataset.zip( ((encoder_input_datatset.take(NUMBER_OF_DATAPOINTS), decoder_input_datatset.take(NUMBER_OF_DATAPOINTS)), decoder_output_datatset.take(NUMBER_OF_DATAPOINTS) ) ).shuffle(1000) #encoder_input_datatset.take(NUMBER_OF_DATAPOINTS).repeat(2)"
   ]
  },
  {
   "cell_type": "code",
   "execution_count": 35,
   "metadata": {
    "colab": {
     "base_uri": "https://localhost:8080/"
    },
    "id": "afvw-Jx8DOfj",
    "outputId": "59cf58bc-8831-40a2-8c27-c4b8b40bbaa2"
   },
   "outputs": [
    {
     "name": "stdout",
     "output_type": "stream",
     "text": [
      "<BatchDataset shapes: (((None, 17), (None, 29)), (None, 29)), types: ((tf.int32, tf.int32), tf.int32)> <BatchDataset shapes: (((None, 17), (None, 29)), (None, 29)), types: ((tf.int32, tf.int32), tf.int32)>\n"
     ]
    }
   ],
   "source": [
    "test_dataset = full_dataset.take(50).batch(32)\n",
    "train_dataset = full_dataset.skip(50).batch(32)\n",
    "\n",
    "print(train_dataset, test_dataset)"
   ]
  },
  {
   "cell_type": "markdown",
   "metadata": {
    "id": "t8dRVa-wHxgh"
   },
   "source": [
    "#### Callback functions"
   ]
  },
  {
   "cell_type": "code",
   "execution_count": 37,
   "metadata": {
    "id": "fAXLQPFWD_yn"
   },
   "outputs": [],
   "source": [
    "#LEARNING RATE SCHEDULER: Decay learning rate after 15 epochs\n",
    "def scheduler(epoch, lr):\n",
    "   if epoch < 1:\n",
    "     return lr   \n",
    "   else:\n",
    "     return lr * tf.math.exp(-0.1)\n",
    "lr_scheduler = tf.keras.callbacks.LearningRateScheduler(scheduler)\n",
    "\n",
    "#EARLY STOPPING\n",
    "early_stopping = tf.keras.callbacks.EarlyStopping(monitor='val_loss', patience=5, verbose=1)\n",
    "\n",
    "#TENSORBOARD PLOTS\n",
    "tensorboard_cb = tf.keras.callbacks.TensorBoard(log_dir='logs')\n",
    "\n",
    "#SAVE MODEL WEIGHTS\n",
    "class SaveModel(tf.keras.callbacks.Callback):\n",
    "\n",
    "  def __init__(self):\n",
    "    self.history = { 'loss' : [],  'val_loss' : []}\n",
    "    self.init = 0\n",
    "\n",
    "  def on_epoch_end(self, epoch, logs = {}):\n",
    "    \n",
    "    self.history['loss'].append(logs.get('loss'))\n",
    "    if logs.get('val_loss', -1) != -1:\n",
    "        self.history['val_loss'].append(logs.get('val_loss'))\n",
    "\n",
    "    #if epochs % 10 == 0:\n",
    "    self.model.save_weights('drive/MyDrive/GEC/ENC_DEC_EMB/weights_{}.h5'.format(epoch+self.init))    #print('Saved weights for epoch {}!'.format(epoch))\n",
    "\n",
    "    df = pd.DataFrame(columns = ['loss','val_loss']) \n",
    "    for col in df.columns:\n",
    "      df[col] = self.history[col]\n",
    "    df.to_csv('history.csv')\n",
    "    !cp history.csv \"drive/MyDrive/GEC/ENC_DEC_EMB/history.csv\"\n",
    "\n",
    "save_model = SaveModel()"
   ]
  },
  {
   "cell_type": "markdown",
   "metadata": {
    "id": "iBG03pV-IFwx"
   },
   "source": [
    "#### Train with dot scoring function"
   ]
  },
  {
   "cell_type": "code",
   "execution_count": 26,
   "metadata": {
    "id": "fVyd9Y-uBZR7"
   },
   "outputs": [],
   "source": [
    "'''This code calculates the macro averaged fbeta score for each data point and outputs the mean of 32 scores'''\n",
    "\n",
    "def f_beta_score(y_true, y_pred):\n",
    "  y_pred_sparse = tf.convert_to_tensor(np.argmax(y_pred, axis = -1), dtype = tf.float32)\n",
    "  fb_score = [ fbeta_score(y_true[i], y_pred_sparse[i],average = 'macro',beta = 0.5) for i in range(y_true.shape[0])]#tf.py_function(fbeta_score, inp = [y, y_pred, 0.5], Tout=tf.float32)\n",
    "  return sum(fb_score)/len(fb_score)\n"
   ]
  },
  {
   "cell_type": "code",
   "execution_count": 27,
   "metadata": {
    "colab": {
     "base_uri": "https://localhost:8080/"
    },
    "id": "GOI353P_BKcL",
    "outputId": "c01637ea-64b9-4603-951a-5ca4ade77157"
   },
   "outputs": [
    {
     "name": "stderr",
     "output_type": "stream",
     "text": [
      "/usr/local/lib/python3.7/dist-packages/tensorflow/python/data/ops/dataset_ops.py:3704: UserWarning: Even though the `tf.config.experimental_run_functions_eagerly` option is set, this option does not apply to tf.data functions. To force eager execution of tf.data functions, please use `tf.data.experimental.enable.debug_mode()`.\n",
      "  \"Even though the `tf.config.experimental_run_functions_eagerly` \"\n"
     ]
    },
    {
     "name": "stdout",
     "output_type": "stream",
     "text": [
      "1/1 [==============================] - 10s 10s/step - loss: 10.5071 - f_beta_score: 0.0000e+00\n",
      "Model: \"encoder_decoder\"\n",
      "_________________________________________________________________\n",
      "Layer (type)                 Output Shape              Param #   \n",
      "=================================================================\n",
      "encoder (Encoder)            multiple                  21142100  \n",
      "_________________________________________________________________\n",
      "decoder (Decoder)            multiple                  64027329  \n",
      "=================================================================\n",
      "Total params: 85,169,429\n",
      "Trainable params: 57,136,229\n",
      "Non-trainable params: 28,033,200\n",
      "_________________________________________________________________\n"
     ]
    }
   ],
   "source": [
    "tf.config.run_functions_eagerly(True)\n",
    "\n",
    "#Create an object of encoder_decoder Model class, \n",
    "# Compile the model and fit the model\n",
    "input = np.random.randint(0, 64, size=(BATCH_SIZE, INPUT_ENCODER_LENGTH))\n",
    "output = np.random.randint(0, 64, size=(BATCH_SIZE, INPUT_DECODER_LENGTH))\n",
    "target = np.random.randint(0, 64, size=(BATCH_SIZE, INPUT_DECODER_LENGTH))#tf.keras.utils.to_categorical(output, OUTPUT_VOCAB_SIZE)\n",
    "\n",
    "model = encoder_decoder(enc_units = 1024, dec_units = 1024, scoring_func = 'dot', att_units = 1024)\n",
    "model.compile(optimizer=tf.keras.optimizers.Adam(),loss=loss_function, metrics = [f_beta_score])#tf.keras.metrics.categorical_crossentropy)\n",
    "model.fit([input, output], target, steps_per_epoch=1)\n",
    "\n",
    "model.summary()"
   ]
  },
  {
   "cell_type": "code",
   "execution_count": 40,
   "metadata": {
    "colab": {
     "base_uri": "https://localhost:8080/"
    },
    "id": "wmx9XiOjBsbP",
    "outputId": "1915401c-1d12-4567-9201-d83b0f117639"
   },
   "outputs": [
    {
     "name": "stdout",
     "output_type": "stream",
     "text": [
      "Epoch 1/50\n",
      "311/311 [==============================] - 771s 2s/step - loss: 2.3415 - f_beta_score: 0.0343 - val_loss: 2.2430 - val_f_beta_score: 0.0343\n",
      "Epoch 2/50\n",
      "311/311 [==============================] - 787s 3s/step - loss: 2.0087 - f_beta_score: 0.0777 - val_loss: 1.7968 - val_f_beta_score: 0.1528\n",
      "Epoch 3/50\n",
      "311/311 [==============================] - 791s 3s/step - loss: 1.7159 - f_beta_score: 0.1414 - val_loss: 1.6123 - val_f_beta_score: 0.1616\n",
      "Epoch 4/50\n",
      "311/311 [==============================] - 776s 2s/step - loss: 1.4859 - f_beta_score: 0.1824 - val_loss: 1.5341 - val_f_beta_score: 0.1845\n",
      "Epoch 5/50\n",
      "311/311 [==============================] - 776s 2s/step - loss: 1.2786 - f_beta_score: 0.2153 - val_loss: 1.2739 - val_f_beta_score: 0.2221\n",
      "Epoch 6/50\n",
      "311/311 [==============================] - 774s 2s/step - loss: 1.0890 - f_beta_score: 0.2504 - val_loss: 0.9599 - val_f_beta_score: 0.3000\n",
      "Epoch 7/50\n",
      "311/311 [==============================] - 774s 2s/step - loss: 0.9151 - f_beta_score: 0.2943 - val_loss: 0.8796 - val_f_beta_score: 0.2960\n",
      "Epoch 8/50\n",
      "311/311 [==============================] - 777s 2s/step - loss: 0.7526 - f_beta_score: 0.3550 - val_loss: 0.6968 - val_f_beta_score: 0.3648\n",
      "Epoch 9/50\n",
      "311/311 [==============================] - 765s 2s/step - loss: 0.6056 - f_beta_score: 0.4244 - val_loss: 0.5734 - val_f_beta_score: 0.4191\n",
      "Epoch 10/50\n",
      "311/311 [==============================] - 762s 2s/step - loss: 0.4797 - f_beta_score: 0.4912 - val_loss: 0.5304 - val_f_beta_score: 0.4750\n",
      "Epoch 11/50\n",
      "311/311 [==============================] - 764s 2s/step - loss: 0.3818 - f_beta_score: 0.5481 - val_loss: 0.3757 - val_f_beta_score: 0.5141\n",
      "Epoch 12/50\n",
      "311/311 [==============================] - 788s 3s/step - loss: 0.3016 - f_beta_score: 0.5941 - val_loss: 0.3020 - val_f_beta_score: 0.6196\n",
      "Epoch 13/50\n",
      "311/311 [==============================] - 808s 3s/step - loss: 0.2444 - f_beta_score: 0.6297 - val_loss: 0.2568 - val_f_beta_score: 0.6280\n",
      "Epoch 14/50\n",
      "311/311 [==============================] - 811s 3s/step - loss: 0.1753 - f_beta_score: 0.6766 - val_loss: 0.1611 - val_f_beta_score: 0.6965\n",
      "Epoch 15/50\n",
      "311/311 [==============================] - 798s 3s/step - loss: 0.1324 - f_beta_score: 0.7083 - val_loss: 0.1409 - val_f_beta_score: 0.6945\n",
      "Epoch 16/50\n",
      "311/311 [==============================] - 804s 3s/step - loss: 0.0965 - f_beta_score: 0.7352 - val_loss: 0.1364 - val_f_beta_score: 0.6980\n",
      "Epoch 17/50\n",
      "311/311 [==============================] - 799s 3s/step - loss: 0.0734 - f_beta_score: 0.7509 - val_loss: 0.1000 - val_f_beta_score: 0.7337\n",
      "Epoch 18/50\n",
      "311/311 [==============================] - 808s 3s/step - loss: 0.0528 - f_beta_score: 0.7672 - val_loss: 0.0527 - val_f_beta_score: 0.7643\n",
      "Epoch 19/50\n",
      "311/311 [==============================] - 809s 3s/step - loss: 0.0361 - f_beta_score: 0.7771 - val_loss: 0.0812 - val_f_beta_score: 0.7717\n",
      "Epoch 20/50\n",
      "311/311 [==============================] - 811s 3s/step - loss: 0.0413 - f_beta_score: 0.7708 - val_loss: 0.0540 - val_f_beta_score: 0.7628\n",
      "Epoch 21/50\n",
      "311/311 [==============================] - 813s 3s/step - loss: 0.0328 - f_beta_score: 0.7743 - val_loss: 0.0378 - val_f_beta_score: 0.7677\n",
      "Epoch 22/50\n",
      "311/311 [==============================] - 821s 3s/step - loss: 0.0261 - f_beta_score: 0.7747 - val_loss: 0.0174 - val_f_beta_score: 0.7814\n",
      "Epoch 23/50\n",
      "311/311 [==============================] - 832s 3s/step - loss: 0.0245 - f_beta_score: 0.7786 - val_loss: 0.0299 - val_f_beta_score: 0.7868\n",
      "Epoch 24/50\n",
      "311/311 [==============================] - 826s 3s/step - loss: 0.0240 - f_beta_score: 0.7767 - val_loss: 0.0303 - val_f_beta_score: 0.7726\n",
      "Epoch 25/50\n",
      "311/311 [==============================] - 817s 3s/step - loss: 0.0222 - f_beta_score: 0.7775 - val_loss: 0.0373 - val_f_beta_score: 0.7619\n",
      "Epoch 26/50\n",
      "311/311 [==============================] - 813s 3s/step - loss: 0.0324 - f_beta_score: 0.7664 - val_loss: 0.0703 - val_f_beta_score: 0.7318\n",
      "Epoch 27/50\n",
      "311/311 [==============================] - 829s 3s/step - loss: 0.0240 - f_beta_score: 0.7729 - val_loss: 0.0333 - val_f_beta_score: 0.7585\n",
      "Epoch 00027: early stopping\n"
     ]
    },
    {
     "data": {
      "text/plain": [
       "<tensorflow.python.keras.callbacks.History at 0x7f271031b110>"
      ]
     },
     "execution_count": 40,
     "metadata": {
      "tags": []
     },
     "output_type": "execute_result"
    }
   ],
   "source": [
    "#TEST1 1024 encoder decoder att units  #10000\n",
    "model.fit(train_dataset,\n",
    "          validation_data = test_dataset, \n",
    "          epochs = 50, \n",
    "          callbacks = [early_stopping,tensorboard_cb, save_model])\n"
   ]
  },
  {
   "cell_type": "code",
   "execution_count": 44,
   "metadata": {
    "colab": {
     "base_uri": "https://localhost:8080/",
     "height": 285
    },
    "id": "qqZ4eRl2YnjW",
    "outputId": "4bca95d6-422f-4cc3-f2bb-671c9d255a02"
   },
   "outputs": [
    {
     "data": {
      "image/png": "[encoded data removed]",
      "text/plain": [
       "<Figure size 432x288 with 1 Axes>"
      ]
     },
     "metadata": {
      "tags": []
     },
     "output_type": "display_data"
    }
   ],
   "source": [
    "df= pd.read_csv('drive/MyDrive/GEC/ENC_DEC_EMB/history.csv')\n",
    "plt.plot(range(0, len(df['loss'])), df['loss'], label = 'train_loss')\n",
    "plt.plot(range(0, len(df['val_loss'])), df['val_loss'], label = 'test_loss')\n",
    "plt.xlabel('epochs')\n",
    "plt.ylabel('loss')\n",
    "plt.legend()\n",
    "plt.show()"
   ]
  },
  {
   "cell_type": "markdown",
   "metadata": {
    "id": "awdk_hD37sad"
   },
   "source": [
    "#### Inference"
   ]
  },
  {
   "cell_type": "code",
   "execution_count": 28,
   "metadata": {
    "id": "cF5_KTXBYlKG"
   },
   "outputs": [],
   "source": [
    "#Input processor\n",
    "def input_processor(input_sentence, pad_seq):\n",
    "\n",
    "  encoder_input = preprocess(input_sentence, add_start_token= True, add_end_token=True)\n",
    "\n",
    "  #Convert to sequence\n",
    "  tokenized_text = tokenizer.texts_to_sequences([encoder_input])\n",
    "  if pad_seq == True:\n",
    "    tokenized_text = pad_sequences(tokenized_text, maxlen=INPUT_ENCODER_LENGTH, padding=\"post\")\n",
    "\n",
    "  tokenized_text = tf.convert_to_tensor(tokenized_text, dtype = tf.float32)\n",
    "  return tokenized_text\n",
    "\n",
    "\n",
    "def remove_end_token(words):\n",
    "  words_list = words.split(' ')[:-1]\n",
    "  words = \" \".join(words_list)\n",
    "  return words"
   ]
  },
  {
   "cell_type": "code",
   "execution_count": 29,
   "metadata": {
    "id": "GB-3YvzfYVTC"
   },
   "outputs": [],
   "source": [
    "def plot_attention(AW, IN, OUT):\n",
    "  #Refer: https://www.tensorflow.org/tutorials/text/nmt_with_attention#translate\n",
    "  #Get the attention weights of ALL ENCODER VALUES for every timestep: i.e. if encoder length is 2, and decoder length is 2, you get 4 values\n",
    "\n",
    "  print(IN)\n",
    "  print(OUT)\n",
    "  plt.figure(figsize = (8,6))\n",
    "  sns.set_theme()\n",
    "  ax = sns.heatmap(AW,xticklabels =  IN.split(\" \"), yticklabels= OUT.split(\" \"))\n",
    "  ax.set_title('Attention weights')\n",
    "  ax.set_xlabel('encoder_input')\n",
    "  ax.set_ylabel('decoder_output')\n"
   ]
  },
  {
   "cell_type": "code",
   "execution_count": 30,
   "metadata": {
    "id": "i6CmESbcYbVB"
   },
   "outputs": [],
   "source": [
    "def predict(input_sentence):\n",
    "\n",
    "  '''\n",
    "  A. Given input sentence, convert the sentence into integers using tokenizer used earlier\n",
    "  B. Pass the input_sequence to encoder. we get encoder_outputs, last time step hidden and cell state\n",
    "  C. Initialize index of <start> as input to decoder. and encoder final states as input_states to onestepdecoder.\n",
    "  D. till we reach max_length of decoder or till the model predicted word <end>:\n",
    "         predictions, input_states, attention_weights = model.layers[1].onestepdecoder(input_to_decoder, encoder_output, input_states)\n",
    "         Save the attention weights\n",
    "         And get the word using the tokenizer(word index) and then store it in a string.\n",
    "  E. Call plot_attention(#params)\n",
    "  F. Return the predicted sentence\n",
    "  '''\n",
    "  \n",
    "  input = input_processor(input_sentence, pad_seq = False)\n",
    "  #print('INPUT: ', input)\n",
    "\n",
    "  NUMBER_OF_INPUTS = input.shape[0] #Or number of inputs\n",
    "\n",
    "  #Pass the input_sequence to encoder. we get encoder_outputs, last time step hidden and cell state\n",
    "  states = model.layers[0].initialize_states(NUMBER_OF_INPUTS)\n",
    "\n",
    "  encoder_output,encoder_final_state_h, encoder_final_state_c = model.layers[0](input, states)\n",
    "  #print('ENCODER OUPUT: ',encoder_output,encoder_final_state_h,encoder_final_state_c, 'FULLSTOP')\n",
    "\n",
    "  #Initialize index of <start> as input to decoder. and encoder final states as input_states to decoder\n",
    "  input_decoder = np.zeros((1,1))\n",
    "  input_decoder[0][0] = 2  #<start> for eng vocab\n",
    "  \n",
    "  attention_wts = []\n",
    "  decoder_output_list = []\n",
    "\n",
    "  stop = False\n",
    "\n",
    "  while stop != True: \n",
    "    decoder_output,decoder_state_h,decoder_state_c, attention_weights, context_vector = model.layers[1].one_step_decoder(input_decoder, encoder_output, encoder_final_state_h, encoder_final_state_c)\n",
    "    \n",
    "    #Update the states for next prediction\n",
    "    encoder_final_state_h = decoder_state_h\n",
    "    #encoder_final_state_h_b = decoder_state_h_b\n",
    "    encoder_final_state_c = decoder_state_c\n",
    "    #encoder_final_state_c_b = decoder_state_c_b\n",
    "\n",
    "    #print('OUTPUT: ',decoder_output)\n",
    "\n",
    "    index = np.argmax(decoder_output,-1)\n",
    "    #print('NP.ARGMAX OUTPUT: ', index)\n",
    "\n",
    "    attention_wts.append(attention_weights)\n",
    "    decoder_output_list.append(index)\n",
    "\n",
    "    input_decoder = np.asarray(index, dtype = np.float32)\n",
    "    input_decoder = np.reshape(input_decoder, (NUMBER_OF_INPUTS,1))\n",
    "\n",
    "    if input_decoder[0][0] == 4 or len(decoder_output_list) > input.shape[1]: #Index of <end> for out_tokenizer\n",
    "      stop =True\n",
    "\n",
    "  #Get the output tokens and store in arr_out\n",
    "  arr_out = [int(np.asarray(i)) for i in decoder_output_list]\n",
    "\n",
    "  #Convert to text\n",
    "  output_words = out_tokenizer.sequences_to_texts([arr_out])\n",
    "\n",
    "  return output_words, attention_wts\n",
    "  "
   ]
  },
  {
   "cell_type": "code",
   "execution_count": 31,
   "metadata": {
    "id": "C1MCY_GwYglh"
   },
   "outputs": [],
   "source": [
    "def translate(sent, ind, plot_attention_):\n",
    "  out, attention_weights = predict(sent)\n",
    "\n",
    "  #Get the output and input sent\n",
    "  OUT = out[0]\n",
    "  IN = encoder_input[ind]\n",
    "  #print(IN)\n",
    "\n",
    "  if plot_attention_ == True:\n",
    "    #REshape attention weights\n",
    "    attention_weights = np.asarray(attention_weights)\n",
    "    AW = np.reshape(attention_weights,(attention_weights.shape[0], attention_weights.shape[2]))\n",
    "\n",
    "    #print(AW, AW.shape)\n",
    "\n",
    "    #Plot attention\n",
    "    plot_attention(AW, IN, OUT)\n",
    "\n",
    "  return OUT"
   ]
  },
  {
   "cell_type": "markdown",
   "metadata": {
    "id": "vnYCyLRfhyvq"
   },
   "source": [
    "#### Inference on model trained with 10k data points\n",
    "\n"
   ]
  },
  {
   "cell_type": "code",
   "execution_count": 35,
   "metadata": {
    "id": "PoZFdU6vTd59"
   },
   "outputs": [],
   "source": [
    "model.load_weights('drive/MyDrive/GEC/ENC_DEC_EMB/weights_22.h5')"
   ]
  },
  {
   "cell_type": "markdown",
   "metadata": {
    "id": "W3eFz4Q7f3Ac"
   },
   "source": [
    "ATTENTION PLOTS "
   ]
  },
  {
   "cell_type": "code",
   "execution_count": 36,
   "metadata": {
    "colab": {
     "base_uri": "https://localhost:8080/",
     "height": 497
    },
    "id": "ea0vV1JNxSAq",
    "outputId": "368bed85-d540-46a0-afa1-3847ee8cbd7c"
   },
   "outputs": [
    {
     "name": "stdout",
     "output_type": "stream",
     "text": [
      "<start> And he took in my favorite subject like soccer . <end>\n",
      "also took in my favorite subjects like soccer . <end>\n"
     ]
    },
    {
     "data": {
      "application/vnd.google.colaboratory.intrinsic+json": {
       "type": "string"
      },
      "text/plain": [
       "'also took in my favorite subjects like soccer . <end>'"
      ]
     },
     "execution_count": 36,
     "metadata": {
      "tags": []
     },
     "output_type": "execute_result"
    },
    {
     "data": {
      "image/png": "[encoded data removed]",
      "text/plain": [
       "<Figure size 576x432 with 2 Axes>"
      ]
     },
     "metadata": {
      "tags": []
     },
     "output_type": "display_data"
    }
   ],
   "source": [
    "translate(data['error'].loc[0], 0, plot_attention_= True)"
   ]
  },
  {
   "cell_type": "code",
   "execution_count": 37,
   "metadata": {
    "colab": {
     "base_uri": "https://localhost:8080/",
     "height": 497
    },
    "id": "jhYMdOyLgEL5",
    "outputId": "aa567f31-9fd0-4e7c-d515-0cf94d90085a"
   },
   "outputs": [
    {
     "name": "stdout",
     "output_type": "stream",
     "text": [
      "<start> His Kanji is ability is much better than me . <end>\n",
      "his kanji ability is much better than mine . <end>\n"
     ]
    },
    {
     "data": {
      "application/vnd.google.colaboratory.intrinsic+json": {
       "type": "string"
      },
      "text/plain": [
       "'his kanji ability is much better than mine . <end>'"
      ]
     },
     "execution_count": 37,
     "metadata": {
      "tags": []
     },
     "output_type": "execute_result"
    },
    {
     "data": {
      "image/png": "[encoded data removed]",
      "text/plain": [
       "<Figure size 576x432 with 2 Axes>"
      ]
     },
     "metadata": {
      "tags": []
     },
     "output_type": "display_data"
    }
   ],
   "source": [
    "translate(data['error'].loc[2], 2, plot_attention_= True)"
   ]
  },
  {
   "cell_type": "code",
   "execution_count": 38,
   "metadata": {
    "colab": {
     "base_uri": "https://localhost:8080/",
     "height": 500
    },
    "id": "CFSSPY69gIWW",
    "outputId": "42e97bbe-a742-4e63-b144-06189bf14b7f"
   },
   "outputs": [
    {
     "name": "stdout",
     "output_type": "stream",
     "text": [
      "<start> You know , you can take them at slot machine . <end>\n",
      "you know , you can ? <end>\n"
     ]
    },
    {
     "data": {
      "application/vnd.google.colaboratory.intrinsic+json": {
       "type": "string"
      },
      "text/plain": [
       "'you know , you can ? <end>'"
      ]
     },
     "execution_count": 38,
     "metadata": {
      "tags": []
     },
     "output_type": "execute_result"
    },
    {
     "data": {
      "image/png": "[encoded data removed]",
      "text/plain": [
       "<Figure size 576x432 with 2 Axes>"
      ]
     },
     "metadata": {
      "tags": []
     },
     "output_type": "display_data"
    }
   ],
   "source": [
    "translate(data['error'].loc[7], 7, plot_attention_= True)"
   ]
  },
  {
   "cell_type": "code",
   "execution_count": 39,
   "metadata": {
    "colab": {
     "base_uri": "https://localhost:8080/",
     "height": 497
    },
    "id": "C03OLoKiT19T",
    "outputId": "f708e5b2-19ff-4bc5-ae73-23660b31f523"
   },
   "outputs": [
    {
     "name": "stdout",
     "output_type": "stream",
     "text": [
      "<start> If only I had black dense curtains . <end>\n",
      "even only i had dense black curtains . <end>\n"
     ]
    },
    {
     "data": {
      "application/vnd.google.colaboratory.intrinsic+json": {
       "type": "string"
      },
      "text/plain": [
       "'even only i had dense black curtains . <end>'"
      ]
     },
     "execution_count": 39,
     "metadata": {
      "tags": []
     },
     "output_type": "execute_result"
    },
    {
     "data": {
      "image/png": "[encoded data removed]",
      "text/plain": [
       "<Figure size 576x432 with 2 Axes>"
      ]
     },
     "metadata": {
      "tags": []
     },
     "output_type": "display_data"
    }
   ],
   "source": [
    "translate(data['error'].loc[11],11, plot_attention_= True)"
   ]
  },
  {
   "cell_type": "markdown",
   "metadata": {
    "id": "NBtZCplciFJt"
   },
   "source": [
    "BLEU SCORES WITH SEEN DATA"
   ]
  },
  {
   "cell_type": "code",
   "execution_count": 40,
   "metadata": {
    "colab": {
     "base_uri": "https://localhost:8080/"
    },
    "id": "acOPED40gj-g",
    "outputId": "36217adc-b142-4489-8f47-3828382dc272"
   },
   "outputs": [
    {
     "name": "stderr",
     "output_type": "stream",
     "text": [
      "  0%|          | 0/1000 [00:00<?, ?it/s]/usr/local/lib/python3.7/dist-packages/nltk/translate/bleu_score.py:490: UserWarning: \n",
      "Corpus/Sentence contains 0 counts of 2-gram overlaps.\n",
      "BLEU scores might be undesirable; use SmoothingFunction().\n",
      "  warnings.warn(_msg)\n",
      "100%|██████████| 1000/1000 [01:56<00:00,  8.61it/s]"
     ]
    },
    {
     "name": "stdout",
     "output_type": "stream",
     "text": [
      "Average BLEU score : 0.6202338005701352\n"
     ]
    },
    {
     "name": "stderr",
     "output_type": "stream",
     "text": [
      "\n"
     ]
    }
   ],
   "source": [
    "#Pick 1000 random indices\n",
    "indices = [random.randint(0, 10000) for i in range(1000)]\n",
    "sent_list = [data['error'].loc[i] for i in indices]\n",
    "bleu_scores_ = []\n",
    "actual_output = []\n",
    "output_sent_list = []\n",
    "\n",
    "#Translate and calculate BLEU scores\n",
    "for i, sent in enumerate(tqdm(sent_list)):\n",
    "  out,_ = predict(sent) \n",
    "  actual_ = decoder_output[indices[i]]\n",
    "\n",
    "  output_sent_list.append(out[0])\n",
    "  actual_output.append(actual_)\n",
    "\n",
    "  #Remove <end> token\n",
    "  out_words = remove_end_token(out[0])\n",
    "  actual_output_ = remove_end_token(actual_)\n",
    "\n",
    "  #Calculate BLEU scores\n",
    "  bleu_scores_.append(sentence_bleu(actual_output_.split(' '), out_words.split(' ')))\n",
    "\n",
    "\n",
    "print('Average BLEU score :',sum(bleu_scores_)/len(bleu_scores_))"
   ]
  },
  {
   "cell_type": "code",
   "execution_count": 41,
   "metadata": {
    "id": "Q3yFMWgYhAtB"
   },
   "outputs": [],
   "source": [
    "df = pd.DataFrame(columns= ['input_sentence', 'actual_output','translated_output', 'bleu_score'])\n",
    "df['input_sentence'] = sent_list\n",
    "df['actual_output'] = actual_output\n",
    "df['translated_output'] = output_sent_list\n",
    "df['bleu_score'] = bleu_scores_"
   ]
  },
  {
   "cell_type": "code",
   "execution_count": 42,
   "metadata": {
    "colab": {
     "base_uri": "https://localhost:8080/",
     "height": 1000
    },
    "id": "u49w9StehBtv",
    "outputId": "a3fe5eda-3a90-4d16-e0e0-52cfceb2812b"
   },
   "outputs": [
    {
     "data": {
      "text/html": [
       "<div>\n",
       "<style scoped>\n",
       "    .dataframe tbody tr th:only-of-type {\n",
       "        vertical-align: middle;\n",
       "    }\n",
       "\n",
       "    .dataframe tbody tr th {\n",
       "        vertical-align: top;\n",
       "    }\n",
       "\n",
       "    .dataframe thead th {\n",
       "        text-align: right;\n",
       "    }\n",
       "</style>\n",
       "<table border=\"1\" class=\"dataframe\">\n",
       "  <thead>\n",
       "    <tr style=\"text-align: right;\">\n",
       "      <th></th>\n",
       "      <th>input_sentence</th>\n",
       "      <th>actual_output</th>\n",
       "      <th>translated_output</th>\n",
       "      <th>bleu_score</th>\n",
       "    </tr>\n",
       "  </thead>\n",
       "  <tbody>\n",
       "    <tr>\n",
       "      <th>0</th>\n",
       "      <td>If I speak English fluently someday , I want to go abroad .</td>\n",
       "      <td>If I can speak English fluently someday , I want to go abroad . &lt;end&gt;</td>\n",
       "      <td>if i can speak english fluently someday , i want to go abroad . &lt;end&gt;</td>\n",
       "      <td>0.680375</td>\n",
       "    </tr>\n",
       "    <tr>\n",
       "      <th>1</th>\n",
       "      <td>Whenever I see this word , I interpret as newspaper article .</td>\n",
       "      <td>Whenever I see this word , I think of a newspaper article . &lt;end&gt;</td>\n",
       "      <td>whenever i see this word , i think of a newspaper article . &lt;end&gt;</td>\n",
       "      <td>0.744782</td>\n",
       "    </tr>\n",
       "    <tr>\n",
       "      <th>2</th>\n",
       "      <td>Golden week is a grop of holidays in Japan .</td>\n",
       "      <td>Golden week is a group of holidays in Japan . &lt;end&gt;</td>\n",
       "      <td>golden week is a special of holidays in japan . &lt;end&gt;</td>\n",
       "      <td>0.668740</td>\n",
       "    </tr>\n",
       "    <tr>\n",
       "      <th>3</th>\n",
       "      <td>Zhang , ane - mail and ask for his help .</td>\n",
       "      <td>Zhang , an e - mail and ask for his help . &lt;end&gt;</td>\n",
       "      <td>zhang , an e - mail and ask for his help . &lt;end&gt;</td>\n",
       "      <td>0.759836</td>\n",
       "    </tr>\n",
       "    <tr>\n",
       "      <th>4</th>\n",
       "      <td>It is meaning I have to work at casher too .</td>\n",
       "      <td>It means I have to work as a cashier too . &lt;end&gt;</td>\n",
       "      <td>it means i have to work as a cashier too . &lt;end&gt;</td>\n",
       "      <td>0.722657</td>\n",
       "    </tr>\n",
       "    <tr>\n",
       "      <th>5</th>\n",
       "      <td>I have to save money if buy a car . . .</td>\n",
       "      <td>I have to save money if I want to buy a car . . . &lt;end&gt;</td>\n",
       "      <td>i have to save money if i can buy a car . . . &lt;end&gt;</td>\n",
       "      <td>0.680375</td>\n",
       "    </tr>\n",
       "    <tr>\n",
       "      <th>6</th>\n",
       "      <td>Having a lunch under cherry blossoms is a fantastic experience !</td>\n",
       "      <td>Having lunch under cherry blossoms is a fantastic experience ! &lt;end&gt;</td>\n",
       "      <td>having lunch under cherry blossoms is a fantastic experience ! &lt;end&gt;</td>\n",
       "      <td>0.668740</td>\n",
       "    </tr>\n",
       "    <tr>\n",
       "      <th>7</th>\n",
       "      <td>It seems to be able to enjoy it .</td>\n",
       "      <td>It seems to be enjoyable . &lt;end&gt;</td>\n",
       "      <td>it seems to be enjoyable to enjoy it . &lt;end&gt;</td>\n",
       "      <td>0.577350</td>\n",
       "    </tr>\n",
       "    <tr>\n",
       "      <th>8</th>\n",
       "      <td>The weather forcast says heavy rain tomorrow .</td>\n",
       "      <td>The weather forcast says there will be heavy rain tomorrow . &lt;end&gt;</td>\n",
       "      <td>the weather forcast says there will be heavy rain tomorrow .</td>\n",
       "      <td>0.000000</td>\n",
       "    </tr>\n",
       "    <tr>\n",
       "      <th>9</th>\n",
       "      <td>It takes me to get to Moshi from Dar hours .</td>\n",
       "      <td>It takes me hours to get to Moshi from Dar . &lt;end&gt;</td>\n",
       "      <td>it takes me to go to moshi from dar hours . &lt;end&gt;</td>\n",
       "      <td>0.549100</td>\n",
       "    </tr>\n",
       "    <tr>\n",
       "      <th>10</th>\n",
       "      <td>After I went to the English cram school .</td>\n",
       "      <td>Afterwards I went to English cram school . &lt;end&gt;</td>\n",
       "      <td>afterwards i went to english cram school . &lt;end&gt;</td>\n",
       "      <td>0.707107</td>\n",
       "    </tr>\n",
       "    <tr>\n",
       "      <th>11</th>\n",
       "      <td>And my apartment is relatively new and earthquake - proof .</td>\n",
       "      <td>That and my apartment is relatively new and earthquake - proof . &lt;end&gt;</td>\n",
       "      <td>that my apartment is relatively old and earthquake - proof . &lt;end&gt;</td>\n",
       "      <td>0.652994</td>\n",
       "    </tr>\n",
       "    <tr>\n",
       "      <th>12</th>\n",
       "      <td>I have studied English for a long time , more than years .</td>\n",
       "      <td>I have studied English for a long time , for more than years . &lt;end&gt;</td>\n",
       "      <td>i have studied english for a long time , for more than years . &lt;end&gt;</td>\n",
       "      <td>0.731110</td>\n",
       "    </tr>\n",
       "    <tr>\n",
       "      <th>13</th>\n",
       "      <td>Thank you for reading long introduction written in poor English .</td>\n",
       "      <td>Thank you for reading my long introduction written in poor English . &lt;end&gt;</td>\n",
       "      <td>thank you for reading my long introduction written in poor english . &lt;end&gt;</td>\n",
       "      <td>0.537285</td>\n",
       "    </tr>\n",
       "    <tr>\n",
       "      <th>14</th>\n",
       "      <td>after dinner , I played a table tennis with kuga .</td>\n",
       "      <td>After dinner , I played table tennis with Kuga . &lt;end&gt;</td>\n",
       "      <td>after dinner , i played table tennis with kuga . &lt;end&gt;</td>\n",
       "      <td>0.740083</td>\n",
       "    </tr>\n",
       "    <tr>\n",
       "      <th>15</th>\n",
       "      <td>Today one question in English came to my mind</td>\n",
       "      <td>Today one question in English came up to my mind . &lt;end&gt;</td>\n",
       "      <td>today one question in english came up to my mind . &lt;end&gt;</td>\n",
       "      <td>0.549100</td>\n",
       "    </tr>\n",
       "    <tr>\n",
       "      <th>16</th>\n",
       "      <td>Hanshin Tigers versus Yokohama Baystars was held .</td>\n",
       "      <td>The match held was the Hanshin Tigers versus the Yokohama Baystars . &lt;end&gt;</td>\n",
       "      <td>the match held was the hanshin tigers versus the yokohama baystars</td>\n",
       "      <td>0.000000</td>\n",
       "    </tr>\n",
       "    <tr>\n",
       "      <th>17</th>\n",
       "      <td>Now it seemed shortage of time .</td>\n",
       "      <td>Now it seems like a shortage of time . &lt;end&gt;</td>\n",
       "      <td>now it seems like a shortage of time . &lt;end&gt;</td>\n",
       "      <td>0.686589</td>\n",
       "    </tr>\n",
       "    <tr>\n",
       "      <th>18</th>\n",
       "      <td>I finished preparing the dinner and now I am drinking green tea .</td>\n",
       "      <td>I finished preparing dinner and now I am drinking green tea . &lt;end&gt;</td>\n",
       "      <td>i finished preparing dinner and now i am drinking green tea . &lt;end&gt;</td>\n",
       "      <td>0.707107</td>\n",
       "    </tr>\n",
       "    <tr>\n",
       "      <th>19</th>\n",
       "      <td>SO IM BACK TO JAPAN THIS WEEK .</td>\n",
       "      <td>SO IM going BACK TO JAPAN THIS WEEK . &lt;end&gt;</td>\n",
       "      <td>so im going back to japan this week . &lt;end&gt;</td>\n",
       "      <td>0.577350</td>\n",
       "    </tr>\n",
       "    <tr>\n",
       "      <th>20</th>\n",
       "      <td>Yesterday my schoolfriend told me about her summer - lover .</td>\n",
       "      <td>Yesterday my friend from school told me about her summer lover . &lt;end&gt;</td>\n",
       "      <td>yesterday my friend from school told me about her summer lover . &lt;end&gt;</td>\n",
       "      <td>0.537285</td>\n",
       "    </tr>\n",
       "    <tr>\n",
       "      <th>21</th>\n",
       "      <td>I thought August was recently . .</td>\n",
       "      <td>I feel like it was just August . &lt;end&gt;</td>\n",
       "      <td>i like like it was just august . &lt;end&gt;</td>\n",
       "      <td>0.707107</td>\n",
       "    </tr>\n",
       "    <tr>\n",
       "      <th>22</th>\n",
       "      <td>I have to walk outside in the morning .</td>\n",
       "      <td>I have to walk outside this morning . &lt;end&gt;</td>\n",
       "      <td>i have to walk outside this morning . &lt;end&gt;</td>\n",
       "      <td>0.707107</td>\n",
       "    </tr>\n",
       "    <tr>\n",
       "      <th>23</th>\n",
       "      <td>Title Our fright schedule on th May</td>\n",
       "      <td>Title Our flight schedule on May th &lt;end&gt;</td>\n",
       "      <td>title our flight schedule on may th &lt;end&gt;</td>\n",
       "      <td>0.000000</td>\n",
       "    </tr>\n",
       "    <tr>\n",
       "      <th>24</th>\n",
       "      <td>Oh my god I am discouraged from result</td>\n",
       "      <td>Oh my god I am discouraged from theresult &lt;end&gt;</td>\n",
       "      <td>oh my god i am discouraged from theresult &lt;end&gt;</td>\n",
       "      <td>0.524736</td>\n",
       "    </tr>\n",
       "    <tr>\n",
       "      <th>25</th>\n",
       "      <td>I draw sometimes when I feel nothing to do . . .</td>\n",
       "      <td>I draw sometimes when I feel like there is nothing to do . . . &lt;end&gt;</td>\n",
       "      <td>i draw sometimes when i feel like there is nothing . &lt;end&gt;</td>\n",
       "      <td>0.652994</td>\n",
       "    </tr>\n",
       "    <tr>\n",
       "      <th>26</th>\n",
       "      <td>Anybody tell me some information how to improve English skill more faster .</td>\n",
       "      <td>Anybody , ' give ' me some information how to improve English skills faster . &lt;end&gt;</td>\n",
       "      <td>anybody ' ' give ' some information how to improve english skills faster . &lt;end&gt;</td>\n",
       "      <td>0.614788</td>\n",
       "    </tr>\n",
       "    <tr>\n",
       "      <th>27</th>\n",
       "      <td>I needed to renew buying the sticker for picking up the frame .</td>\n",
       "      <td>I needed to renew the sticker for picking up the frame . &lt;end&gt;</td>\n",
       "      <td>i needed to renew the sticker for picking up the frame . &lt;end&gt;</td>\n",
       "      <td>0.638943</td>\n",
       "    </tr>\n",
       "    <tr>\n",
       "      <th>28</th>\n",
       "      <td>When I talk , I forget what I say , ,</td>\n",
       "      <td>When I talk , I forget what to say . &lt;end&gt;</td>\n",
       "      <td>when i talk , i forget what to say . &lt;end&gt;</td>\n",
       "      <td>0.668740</td>\n",
       "    </tr>\n",
       "    <tr>\n",
       "      <th>29</th>\n",
       "      <td>Maybe was vivid , sad , or a happiness feeling .</td>\n",
       "      <td>Maybe it was vivid , sad , or a happiness feeling . &lt;end&gt;</td>\n",
       "      <td>maybe it was vivid , sad , or a happiness feeling . &lt;end&gt;</td>\n",
       "      <td>0.707107</td>\n",
       "    </tr>\n",
       "    <tr>\n",
       "      <th>30</th>\n",
       "      <td>In Japan , there are many soft tennis player .</td>\n",
       "      <td>In Japan , there are many soft tennis players . &lt;end&gt;</td>\n",
       "      <td>in japan , there are many soft tennis players . &lt;end&gt;</td>\n",
       "      <td>0.668740</td>\n",
       "    </tr>\n",
       "    <tr>\n",
       "      <th>31</th>\n",
       "      <td>Texas Burger was sold out .</td>\n",
       "      <td>The Texas Burger was sold out . &lt;end&gt;</td>\n",
       "      <td>the texas burger was sold out . &lt;end&gt;</td>\n",
       "      <td>0.614788</td>\n",
       "    </tr>\n",
       "    <tr>\n",
       "      <th>32</th>\n",
       "      <td>But I do not think so .</td>\n",
       "      <td>However I do not think so . &lt;end&gt;</td>\n",
       "      <td>however i do not think so . &lt;end&gt;</td>\n",
       "      <td>0.731110</td>\n",
       "    </tr>\n",
       "    <tr>\n",
       "      <th>33</th>\n",
       "      <td>I think it is a very interseting place .</td>\n",
       "      <td>I think it is a very interesting place . &lt;end&gt;</td>\n",
       "      <td>i think it is a very interesting place . &lt;end&gt;</td>\n",
       "      <td>0.608429</td>\n",
       "    </tr>\n",
       "    <tr>\n",
       "      <th>34</th>\n",
       "      <td>The restaurante was so nice and delicious .</td>\n",
       "      <td>The restaurant was so nice , and the food was delicious . &lt;end&gt;</td>\n",
       "      <td>the restaurant was so nice and delicious . &lt;end&gt;</td>\n",
       "      <td>0.524736</td>\n",
       "    </tr>\n",
       "    <tr>\n",
       "      <th>35</th>\n",
       "      <td>I swam km , so tired .</td>\n",
       "      <td>I swam km , I am so tired . &lt;end&gt;</td>\n",
       "      <td>i swam km , i am so tired . &lt;end&gt;</td>\n",
       "      <td>0.759836</td>\n",
       "    </tr>\n",
       "    <tr>\n",
       "      <th>36</th>\n",
       "      <td>Especially Yoshino area is good place to see them .</td>\n",
       "      <td>The Yoshino area is an especially good place to see them . &lt;end&gt;</td>\n",
       "      <td>especially yoshino area is an good place to see them . &lt;end&gt;</td>\n",
       "      <td>0.549100</td>\n",
       "    </tr>\n",
       "    <tr>\n",
       "      <th>37</th>\n",
       "      <td>I wish play painball next holiday . .</td>\n",
       "      <td>I want to play paintball next holiday . . &lt;end&gt;</td>\n",
       "      <td>i want to play paintball next holiday . . &lt;end&gt;</td>\n",
       "      <td>0.686589</td>\n",
       "    </tr>\n",
       "    <tr>\n",
       "      <th>38</th>\n",
       "      <td>Time flies fast away during the class .</td>\n",
       "      <td>Time flies duringclass . &lt;end&gt;</td>\n",
       "      <td>time flies duringclass . &lt;end&gt;</td>\n",
       "      <td>0.707107</td>\n",
       "    </tr>\n",
       "    <tr>\n",
       "      <th>39</th>\n",
       "      <td>Maybe , Microsoft may have any crisis ! ?</td>\n",
       "      <td>Maybe , Microsoft will have a problem in the future ? &lt;end&gt;</td>\n",
       "      <td>maybe , microsoft will have a problem in the future ? &lt;end&gt;</td>\n",
       "      <td>0.722657</td>\n",
       "    </tr>\n",
       "    <tr>\n",
       "      <th>40</th>\n",
       "      <td>That is because the conductor , Jack play the guiter with the symphony .</td>\n",
       "      <td>That is because the conductor , Jack , played the guiter with the symphony . &lt;end&gt;</td>\n",
       "      <td>that is because the conductor , jack , played the guiter with the symphony . &lt;end&gt;</td>\n",
       "      <td>0.604275</td>\n",
       "    </tr>\n",
       "    <tr>\n",
       "      <th>41</th>\n",
       "      <td>To enjoy my hobby more effectively , working preliminarily is required .</td>\n",
       "      <td>To enjoy my hobby more , I have to do some work first . &lt;end&gt;</td>\n",
       "      <td>to keep my hobby more , i have to do , my first . &lt;end&gt;</td>\n",
       "      <td>0.680375</td>\n",
       "    </tr>\n",
       "    <tr>\n",
       "      <th>42</th>\n",
       "      <td>Almost days after , I write my journal .</td>\n",
       "      <td>After almost days , I am writing in my journal . &lt;end&gt;</td>\n",
       "      <td>almost almost days , i am writing in my journal . &lt;end&gt;</td>\n",
       "      <td>0.722657</td>\n",
       "    </tr>\n",
       "    <tr>\n",
       "      <th>43</th>\n",
       "      <td>I would better get a move on !</td>\n",
       "      <td>I would better move on ! &lt;end&gt;</td>\n",
       "      <td>would better better move on ! &lt;end&gt;</td>\n",
       "      <td>0.638943</td>\n",
       "    </tr>\n",
       "    <tr>\n",
       "      <th>44</th>\n",
       "      <td>I wanted ride in a patrol car !</td>\n",
       "      <td>I wanted to ride in a patrol car ! &lt;end&gt;</td>\n",
       "      <td>always wanted to ride in a patrol car ! &lt;end&gt;</td>\n",
       "      <td>0.686589</td>\n",
       "    </tr>\n",
       "    <tr>\n",
       "      <th>45</th>\n",
       "      <td>This toy is a big bone - shaped gum .</td>\n",
       "      <td>It is a big bone - shaped gum . &lt;end&gt;</td>\n",
       "      <td>it is a big bone - shaped gum . &lt;end&gt;</td>\n",
       "      <td>0.759836</td>\n",
       "    </tr>\n",
       "    <tr>\n",
       "      <th>46</th>\n",
       "      <td>I am afraid of being muscular pain tomorrow . . .</td>\n",
       "      <td>I am afraid of that I will have muscular pain tomorrow . . . &lt;end&gt;</td>\n",
       "      <td>i am afraid of that i will have muscular pain tomorrow . . .</td>\n",
       "      <td>0.626284</td>\n",
       "    </tr>\n",
       "    <tr>\n",
       "      <th>47</th>\n",
       "      <td>For example one is liking or experiences .</td>\n",
       "      <td>For example one is likings or experiences . &lt;end&gt;</td>\n",
       "      <td>for example one is likings or experiences . &lt;end&gt;</td>\n",
       "      <td>0.594604</td>\n",
       "    </tr>\n",
       "    <tr>\n",
       "      <th>48</th>\n",
       "      <td>It snowed in Christmas Eve .</td>\n",
       "      <td>It snowed on Christmas Eve . &lt;end&gt;</td>\n",
       "      <td>it snowed on christmas eve . &lt;end&gt;</td>\n",
       "      <td>0.638943</td>\n",
       "    </tr>\n",
       "    <tr>\n",
       "      <th>49</th>\n",
       "      <td>But for my dream , I still have to study hard .</td>\n",
       "      <td>But to achive my dreams , I still have to study hard . &lt;end&gt;</td>\n",
       "      <td>but to achive my dreams , i still have to study hard . &lt;end&gt;</td>\n",
       "      <td>0.693098</td>\n",
       "    </tr>\n",
       "  </tbody>\n",
       "</table>\n",
       "</div>"
      ],
      "text/plain": [
       "                                                                 input_sentence  ... bleu_score\n",
       "0                   If I speak English fluently someday , I want to go abroad .  ...   0.680375\n",
       "1                 Whenever I see this word , I interpret as newspaper article .  ...   0.744782\n",
       "2                                  Golden week is a grop of holidays in Japan .  ...   0.668740\n",
       "3                                     Zhang , ane - mail and ask for his help .  ...   0.759836\n",
       "4                                 It is meaning I have to work at casher too .   ...   0.722657\n",
       "5                                      I have to save money if buy a car . . .   ...   0.680375\n",
       "6              Having a lunch under cherry blossoms is a fantastic experience !  ...   0.668740\n",
       "7                                             It seems to be able to enjoy it .  ...   0.577350\n",
       "8                                The weather forcast says heavy rain tomorrow .  ...   0.000000\n",
       "9                                  It takes me to get to Moshi from Dar hours .  ...   0.549100\n",
       "10                                    After I went to the English cram school .  ...   0.707107\n",
       "11                  And my apartment is relatively new and earthquake - proof .  ...   0.652994\n",
       "12                   I have studied English for a long time , more than years .  ...   0.731110\n",
       "13            Thank you for reading long introduction written in poor English .  ...   0.537285\n",
       "14                           after dinner , I played a table tennis with kuga .  ...   0.740083\n",
       "15                               Today one question in English came to my mind   ...   0.549100\n",
       "16                           Hanshin Tigers versus Yokohama Baystars was held .  ...   0.000000\n",
       "17                                             Now it seemed shortage of time .  ...   0.686589\n",
       "18            I finished preparing the dinner and now I am drinking green tea .  ...   0.707107\n",
       "19                                              SO IM BACK TO JAPAN THIS WEEK .  ...   0.577350\n",
       "20                 Yesterday my schoolfriend told me about her summer - lover .  ...   0.537285\n",
       "21                                            I thought August was recently . .  ...   0.707107\n",
       "22                                      I have to walk outside in the morning .  ...   0.707107\n",
       "23                                          Title Our fright schedule on th May  ...   0.000000\n",
       "24                                       Oh my god I am discouraged from result  ...   0.524736\n",
       "25                             I draw sometimes when I feel nothing to do . . .  ...   0.652994\n",
       "26  Anybody tell me some information how to improve English skill more faster .  ...   0.614788\n",
       "27              I needed to renew buying the sticker for picking up the frame .  ...   0.638943\n",
       "28                                       When I talk , I forget what I say , ,   ...   0.668740\n",
       "29                             Maybe was vivid , sad , or a happiness feeling .  ...   0.707107\n",
       "30                               In Japan , there are many soft tennis player .  ...   0.668740\n",
       "31                                                  Texas Burger was sold out .  ...   0.614788\n",
       "32                                                      But I do not think so .  ...   0.731110\n",
       "33                                     I think it is a very interseting place .  ...   0.608429\n",
       "34                                  The restaurante was so nice and delicious .  ...   0.524736\n",
       "35                                                       I swam km , so tired .  ...   0.759836\n",
       "36                          Especially Yoshino area is good place to see them .  ...   0.549100\n",
       "37                                        I wish play painball next holiday . .  ...   0.686589\n",
       "38                                      Time flies fast away during the class .  ...   0.707107\n",
       "39                                    Maybe , Microsoft may have any crisis ! ?  ...   0.722657\n",
       "40     That is because the conductor , Jack play the guiter with the symphony .  ...   0.604275\n",
       "41     To enjoy my hobby more effectively , working preliminarily is required .  ...   0.680375\n",
       "42                                     Almost days after , I write my journal .  ...   0.722657\n",
       "43                                               I would better get a move on !  ...   0.638943\n",
       "44                                              I wanted ride in a patrol car !  ...   0.686589\n",
       "45                                        This toy is a big bone - shaped gum .  ...   0.759836\n",
       "46                            I am afraid of being muscular pain tomorrow . . .  ...   0.626284\n",
       "47                                   For example one is liking or experiences .  ...   0.594604\n",
       "48                                                 It snowed in Christmas Eve .  ...   0.638943\n",
       "49                              But for my dream , I still have to study hard .  ...   0.693098\n",
       "\n",
       "[50 rows x 4 columns]"
      ]
     },
     "execution_count": 42,
     "metadata": {
      "tags": []
     },
     "output_type": "execute_result"
    }
   ],
   "source": [
    "df[:50]"
   ]
  },
  {
   "cell_type": "code",
   "execution_count": 43,
   "metadata": {
    "colab": {
     "base_uri": "https://localhost:8080/",
     "height": 1000
    },
    "id": "980w9VbnhW5D",
    "outputId": "66b9bf41-bfaf-46a8-b34f-5af0d7c77ccf"
   },
   "outputs": [
    {
     "data": {
      "text/html": [
       "<div>\n",
       "<style scoped>\n",
       "    .dataframe tbody tr th:only-of-type {\n",
       "        vertical-align: middle;\n",
       "    }\n",
       "\n",
       "    .dataframe tbody tr th {\n",
       "        vertical-align: top;\n",
       "    }\n",
       "\n",
       "    .dataframe thead th {\n",
       "        text-align: right;\n",
       "    }\n",
       "</style>\n",
       "<table border=\"1\" class=\"dataframe\">\n",
       "  <thead>\n",
       "    <tr style=\"text-align: right;\">\n",
       "      <th></th>\n",
       "      <th>input_sentence</th>\n",
       "      <th>actual_output</th>\n",
       "      <th>translated_output</th>\n",
       "      <th>bleu_score</th>\n",
       "    </tr>\n",
       "  </thead>\n",
       "  <tbody>\n",
       "    <tr>\n",
       "      <th>950</th>\n",
       "      <td>I believe this feeling of angry will make me better .</td>\n",
       "      <td>I believe this feeling of anger will make me better . &lt;end&gt;</td>\n",
       "      <td>i believe this feeling of anger will make me better . &lt;end&gt;</td>\n",
       "      <td>0.652994</td>\n",
       "    </tr>\n",
       "    <tr>\n",
       "      <th>951</th>\n",
       "      <td>And then the police caught him in the act of doing it .</td>\n",
       "      <td>And then the police caught him in the act . &lt;end&gt;</td>\n",
       "      <td>and the police caught him in the act . &lt;end&gt;</td>\n",
       "      <td>0.577350</td>\n",
       "    </tr>\n",
       "    <tr>\n",
       "      <th>952</th>\n",
       "      <td>I would like to be friend with many people all over the world .</td>\n",
       "      <td>I would like to be friends with many people all over the world . &lt;end&gt;</td>\n",
       "      <td>i would like to be friends with many people all over the world . &lt;end&gt;</td>\n",
       "      <td>0.614788</td>\n",
       "    </tr>\n",
       "    <tr>\n",
       "      <th>953</th>\n",
       "      <td>All of them look so happy .</td>\n",
       "      <td>All of them looked so happy . &lt;end&gt;</td>\n",
       "      <td>all of them looked so happy . &lt;end&gt;</td>\n",
       "      <td>0.614788</td>\n",
       "    </tr>\n",
       "    <tr>\n",
       "      <th>954</th>\n",
       "      <td>It is really pretty day in Bangkok .</td>\n",
       "      <td>It is a really pretty day in Bangkok . &lt;end&gt;</td>\n",
       "      <td>it is a really pretty day in bangkok . &lt;end&gt;</td>\n",
       "      <td>0.686589</td>\n",
       "    </tr>\n",
       "    <tr>\n",
       "      <th>955</th>\n",
       "      <td>He looked embarrassed with shyly smile . . . .</td>\n",
       "      <td>He looked embarrassed and had a shy smiled on his face . . . . &lt;end&gt;</td>\n",
       "      <td>he looked embarrassed and had a shy smiled on his face . .</td>\n",
       "      <td>0.638943</td>\n",
       "    </tr>\n",
       "    <tr>\n",
       "      <th>956</th>\n",
       "      <td>I used to use it without sounds recently .</td>\n",
       "      <td>I used it without sounds recently . &lt;end&gt;</td>\n",
       "      <td>used used it without sounds recently . &lt;end&gt;</td>\n",
       "      <td>0.614788</td>\n",
       "    </tr>\n",
       "    <tr>\n",
       "      <th>957</th>\n",
       "      <td>I was able to cook them tastily .</td>\n",
       "      <td>I was able to cook them so that they were tasty . &lt;end&gt;</td>\n",
       "      <td>i was able to cook them so that they were tasty</td>\n",
       "      <td>0.000000</td>\n",
       "    </tr>\n",
       "    <tr>\n",
       "      <th>958</th>\n",
       "      <td>Thank you for all instructors in the school ! ! ! !</td>\n",
       "      <td>Thank you to all instructors in the school ! ! ! ! &lt;end&gt;</td>\n",
       "      <td>thank you to all instructors in the school ! ! ! ! &lt;end&gt;</td>\n",
       "      <td>0.537285</td>\n",
       "    </tr>\n",
       "    <tr>\n",
       "      <th>959</th>\n",
       "      <td>So it is because I would like to a movie without subutitles .</td>\n",
       "      <td>So that is why I would like to watch a movie without subtitles . &lt;end&gt;</td>\n",
       "      <td>so that is why i would like to watch a movie without subtitles . &lt;end&gt;</td>\n",
       "      <td>0.680375</td>\n",
       "    </tr>\n",
       "    <tr>\n",
       "      <th>960</th>\n",
       "      <td>I would love to finish reading it in this three days .</td>\n",
       "      <td>I would love to finish reading it in three days . &lt;end&gt;</td>\n",
       "      <td>i would love to finish reading it in three days . &lt;end&gt;</td>\n",
       "      <td>0.652994</td>\n",
       "    </tr>\n",
       "    <tr>\n",
       "      <th>961</th>\n",
       "      <td>Even though I major in economic , one of my dreams is to be</td>\n",
       "      <td>Even though I major in economy , one of my dreams is to be &lt;end&gt;</td>\n",
       "      <td>even though i major in economy , one of my dreams is to be &lt;end&gt;</td>\n",
       "      <td>0.614788</td>\n",
       "    </tr>\n",
       "    <tr>\n",
       "      <th>962</th>\n",
       "      <td>Hello ! I am from whitehouse .</td>\n",
       "      <td>Hello ! I am from The White House . &lt;end&gt;</td>\n",
       "      <td>hello ! i am from the white house . &lt;end&gt;</td>\n",
       "      <td>0.759836</td>\n",
       "    </tr>\n",
       "    <tr>\n",
       "      <th>963</th>\n",
       "      <td>I learn to speak English and find friends here .</td>\n",
       "      <td>I want to learn English and find friends here . &lt;end&gt;</td>\n",
       "      <td>i want to learn english and find friends here . &lt;end&gt;</td>\n",
       "      <td>0.668740</td>\n",
       "    </tr>\n",
       "    <tr>\n",
       "      <th>964</th>\n",
       "      <td>So I WILL get it inthis year because</td>\n",
       "      <td>So I WILL get it this year because &lt;end&gt;</td>\n",
       "      <td>so i will get it this year because &lt;end&gt;</td>\n",
       "      <td>0.594604</td>\n",
       "    </tr>\n",
       "    <tr>\n",
       "      <th>965</th>\n",
       "      <td>you should use this dictionary .</td>\n",
       "      <td>I suggest that you should use this dictionary . &lt;end&gt;</td>\n",
       "      <td>do you should use this dictionary . &lt;end&gt;</td>\n",
       "      <td>0.614788</td>\n",
       "    </tr>\n",
       "    <tr>\n",
       "      <th>966</th>\n",
       "      <td>I am looking forward to see her as well .</td>\n",
       "      <td>I am looking forward to seeing her as well . &lt;end&gt;</td>\n",
       "      <td>i am looking forward to seeing her as well . &lt;end&gt;</td>\n",
       "      <td>0.668740</td>\n",
       "    </tr>\n",
       "    <tr>\n",
       "      <th>967</th>\n",
       "      <td>salon was very beautiful , but more expensive than that in tsukuba city and</td>\n",
       "      <td>The salon was very beautiful but it is more expensive than that in Tsukuba City and &lt;end&gt;</td>\n",
       "      <td>the salon was very beautiful but it is more expensive than that in tsukuba city and &lt;end&gt;</td>\n",
       "      <td>0.000000</td>\n",
       "    </tr>\n",
       "    <tr>\n",
       "      <th>968</th>\n",
       "      <td>It have a half of math , a harf of japanese .</td>\n",
       "      <td>One half of it is math , the other half Japanese . &lt;end&gt;</td>\n",
       "      <td>have half of of math , the other half of japanese . &lt;end&gt;</td>\n",
       "      <td>0.638943</td>\n",
       "    </tr>\n",
       "    <tr>\n",
       "      <th>969</th>\n",
       "      <td>The beef in the curry is so tender !</td>\n",
       "      <td>The beef in the curry was so tender ! &lt;end&gt;</td>\n",
       "      <td>the beef in the curry was so tender ! &lt;end&gt;</td>\n",
       "      <td>0.577350</td>\n",
       "    </tr>\n",
       "    <tr>\n",
       "      <th>970</th>\n",
       "      <td>Only problem is that it is very heavy food .</td>\n",
       "      <td>The only problem is that it is very heavy food . &lt;end&gt;</td>\n",
       "      <td>the only problem is that it is very heavy food . &lt;end&gt;</td>\n",
       "      <td>0.549100</td>\n",
       "    </tr>\n",
       "    <tr>\n",
       "      <th>971</th>\n",
       "      <td>And finally I can say I puzzle it out !</td>\n",
       "      <td>Finally I can say that I have found them ! &lt;end&gt;</td>\n",
       "      <td>finally i can say that i have found them ! &lt;end&gt;</td>\n",
       "      <td>0.668740</td>\n",
       "    </tr>\n",
       "    <tr>\n",
       "      <th>972</th>\n",
       "      <td>We must something ! ! ! !</td>\n",
       "      <td>We must do something ! ! ! ! &lt;end&gt;</td>\n",
       "      <td>we must do ! ! ! ! ! &lt;end&gt;</td>\n",
       "      <td>0.524736</td>\n",
       "    </tr>\n",
       "    <tr>\n",
       "      <th>973</th>\n",
       "      <td>actually I know what do mean</td>\n",
       "      <td>Actually , I know they mean . &lt;end&gt;</td>\n",
       "      <td>actually , know what they mean ? &lt;end&gt;</td>\n",
       "      <td>0.532946</td>\n",
       "    </tr>\n",
       "    <tr>\n",
       "      <th>974</th>\n",
       "      <td>I sent an email to them .</td>\n",
       "      <td>I sent emails to them . &lt;end&gt;</td>\n",
       "      <td>i sent emails to them . &lt;end&gt;</td>\n",
       "      <td>0.759836</td>\n",
       "    </tr>\n",
       "    <tr>\n",
       "      <th>975</th>\n",
       "      <td>I think no ricense rider should be appriciated more .</td>\n",
       "      <td>I think non - licensed writers should be appreciated more . &lt;end&gt;</td>\n",
       "      <td>i think non - licensed writers should be appreciated more . &lt;end&gt;</td>\n",
       "      <td>0.722657</td>\n",
       "    </tr>\n",
       "    <tr>\n",
       "      <th>976</th>\n",
       "      <td>The benefit of illness is that I can watch film all day .</td>\n",
       "      <td>The benefit of illness is that I can watch films all day . &lt;end&gt;</td>\n",
       "      <td>the benefit of illness is that i can watch films all day . &lt;end&gt;</td>\n",
       "      <td>0.626284</td>\n",
       "    </tr>\n",
       "    <tr>\n",
       "      <th>977</th>\n",
       "      <td>I am a free in the morining .</td>\n",
       "      <td>I am free in the morining . &lt;end&gt;</td>\n",
       "      <td>i am free in the morining . &lt;end&gt;</td>\n",
       "      <td>0.633783</td>\n",
       "    </tr>\n",
       "    <tr>\n",
       "      <th>978</th>\n",
       "      <td>I received the highest point in our evaluation system .</td>\n",
       "      <td>I received the highest points in our evaluation system . &lt;end&gt;</td>\n",
       "      <td>i received the highest points in our evaluation system . &lt;end&gt;</td>\n",
       "      <td>0.668740</td>\n",
       "    </tr>\n",
       "    <tr>\n",
       "      <th>979</th>\n",
       "      <td>It is a system to make fine goods required by Buyer in economically .</td>\n",
       "      <td>It is a system to make fine goods economically feasible for the buyer . &lt;end&gt;</td>\n",
       "      <td>it is a system to make fine goods economically feasible for the buyer . &lt;end&gt;</td>\n",
       "      <td>0.614788</td>\n",
       "    </tr>\n",
       "    <tr>\n",
       "      <th>980</th>\n",
       "      <td>Strong wind and rain will make ground of mountain weak .</td>\n",
       "      <td>Strong wind and rain will make the ground of the mountain weak . &lt;end&gt;</td>\n",
       "      <td>strong wind and rain will make the ground of the mountain weak . &lt;end&gt;</td>\n",
       "      <td>0.526640</td>\n",
       "    </tr>\n",
       "    <tr>\n",
       "      <th>981</th>\n",
       "      <td>I wish that I can overcome this problem before going to Korean .</td>\n",
       "      <td>I hope that I can overcome this problem before going to Korea . &lt;end&gt;</td>\n",
       "      <td>i hope that i can overcome this problem before going to korea . &lt;end&gt;</td>\n",
       "      <td>0.626284</td>\n",
       "    </tr>\n",
       "    <tr>\n",
       "      <th>982</th>\n",
       "      <td>That means , I wear working uniform and helmet during work .</td>\n",
       "      <td>That means , I wear a work uniform and helmet &lt;end&gt;</td>\n",
       "      <td>that means , i wear a work uniform and helmet &lt;end&gt;</td>\n",
       "      <td>0.740083</td>\n",
       "    </tr>\n",
       "    <tr>\n",
       "      <th>983</th>\n",
       "      <td>When I came here in the USA , I was looking for housing .</td>\n",
       "      <td>When I came to the USA , I was looking for housing . &lt;end&gt;</td>\n",
       "      <td>when i came to the usa , i was looking for housing . &lt;end&gt;</td>\n",
       "      <td>0.693098</td>\n",
       "    </tr>\n",
       "    <tr>\n",
       "      <th>984</th>\n",
       "      <td>I know it was fool of Japan to battle against America .</td>\n",
       "      <td>I know it was foolish of Japan to fight against America . &lt;end&gt;</td>\n",
       "      <td>i know it was foolish of japan to fight against america . &lt;end&gt;</td>\n",
       "      <td>0.638943</td>\n",
       "    </tr>\n",
       "    <tr>\n",
       "      <th>985</th>\n",
       "      <td>He is crowling everywhere as his instinct tells .</td>\n",
       "      <td>He is crawling everywhere as his instinct tells . &lt;end&gt;</td>\n",
       "      <td>he is crawling everywhere as his instinct tells . &lt;end&gt;</td>\n",
       "      <td>0.577350</td>\n",
       "    </tr>\n",
       "    <tr>\n",
       "      <th>986</th>\n",
       "      <td>I was glad that Manchester United beated Tottenham .</td>\n",
       "      <td>I was glad that Manchester United beat Tottenham . &lt;end&gt;</td>\n",
       "      <td>still was glad that manchester united beat tottenham . &lt;end&gt;</td>\n",
       "      <td>0.577350</td>\n",
       "    </tr>\n",
       "    <tr>\n",
       "      <th>987</th>\n",
       "      <td>What if I and he would be that case ?</td>\n",
       "      <td>What if that happens to us ? &lt;end&gt;</td>\n",
       "      <td>what if that happens to us ? &lt;end&gt;</td>\n",
       "      <td>0.614788</td>\n",
       "    </tr>\n",
       "    <tr>\n",
       "      <th>988</th>\n",
       "      <td>And I hope I like the summer Finland .</td>\n",
       "      <td>And I hope I will like Finland in the Summer . &lt;end&gt;</td>\n",
       "      <td>and i hope i will like finland in the summer . &lt;end&gt;</td>\n",
       "      <td>0.652994</td>\n",
       "    </tr>\n",
       "    <tr>\n",
       "      <th>989</th>\n",
       "      <td>What children say and act , always amuses us .</td>\n",
       "      <td>What children say and do , always amuses us . &lt;end&gt;</td>\n",
       "      <td>what children do and do , always amuses us . &lt;end&gt;</td>\n",
       "      <td>0.668740</td>\n",
       "    </tr>\n",
       "    <tr>\n",
       "      <th>990</th>\n",
       "      <td>I can not think up anything now .</td>\n",
       "      <td>I can not think of anything else now . &lt;end&gt;</td>\n",
       "      <td>do not think of anything else now . &lt;end&gt;</td>\n",
       "      <td>0.594604</td>\n",
       "    </tr>\n",
       "    <tr>\n",
       "      <th>991</th>\n",
       "      <td>I have also a brother over three years old .</td>\n",
       "      <td>I also have a brother who is over three years old . &lt;end&gt;</td>\n",
       "      <td>i also have a brother who is over three years old . &lt;end&gt;</td>\n",
       "      <td>0.707107</td>\n",
       "    </tr>\n",
       "    <tr>\n",
       "      <th>992</th>\n",
       "      <td>I do not have any sisters .</td>\n",
       "      <td>I do not have any siblings . &lt;end&gt;</td>\n",
       "      <td>do not have any siblings . &lt;end&gt;</td>\n",
       "      <td>0.638943</td>\n",
       "    </tr>\n",
       "    <tr>\n",
       "      <th>993</th>\n",
       "      <td>actually , this is my twice writing daily ,</td>\n",
       "      <td>actually , this is my second writing daily , &lt;end&gt;</td>\n",
       "      <td>actually , this is my second writing daily , &lt;end&gt;</td>\n",
       "      <td>0.577350</td>\n",
       "    </tr>\n",
       "    <tr>\n",
       "      <th>994</th>\n",
       "      <td>The most scariest stuff is MacDonald is french fries .</td>\n",
       "      <td>The scariest stuff is MacDonald is french fries . &lt;end&gt;</td>\n",
       "      <td>the most stuff is macdonald is french fries . &lt;end&gt;</td>\n",
       "      <td>0.577350</td>\n",
       "    </tr>\n",
       "    <tr>\n",
       "      <th>995</th>\n",
       "      <td>Please it is possible to continue .</td>\n",
       "      <td>Please , let it be possible to continue . &lt;end&gt;</td>\n",
       "      <td>please , let it be possible to continue . &lt;end&gt;</td>\n",
       "      <td>0.686589</td>\n",
       "    </tr>\n",
       "    <tr>\n",
       "      <th>996</th>\n",
       "      <td>I think our language skill was even .</td>\n",
       "      <td>I think our language skills were even . &lt;end&gt;</td>\n",
       "      <td>think our language skills were even . &lt;end&gt;</td>\n",
       "      <td>0.614788</td>\n",
       "    </tr>\n",
       "    <tr>\n",
       "      <th>997</th>\n",
       "      <td>It is a long time since I quited my job .</td>\n",
       "      <td>It is been a long time since I quit my job . &lt;end&gt;</td>\n",
       "      <td>it is been a long time since i quit my job . &lt;end&gt;</td>\n",
       "      <td>0.707107</td>\n",
       "    </tr>\n",
       "    <tr>\n",
       "      <th>998</th>\n",
       "      <td>Bad news is we will hold another big conference which could be just</td>\n",
       "      <td>The bad news is we that will hold another big conference which could be just &lt;end&gt;</td>\n",
       "      <td>the bad news is that that will hold another big conference which could be not &lt;end&gt;</td>\n",
       "      <td>0.000000</td>\n",
       "    </tr>\n",
       "    <tr>\n",
       "      <th>999</th>\n",
       "      <td>We lay down on the beach for a while .</td>\n",
       "      <td>We lied down on the beach for a while . &lt;end&gt;</td>\n",
       "      <td>we lied down on the beach for a while . &lt;end&gt;</td>\n",
       "      <td>0.668740</td>\n",
       "    </tr>\n",
       "  </tbody>\n",
       "</table>\n",
       "</div>"
      ],
      "text/plain": [
       "                                                                  input_sentence  ... bleu_score\n",
       "950                        I believe this feeling of angry will make me better .  ...   0.652994\n",
       "951                      And then the police caught him in the act of doing it .  ...   0.577350\n",
       "952              I would like to be friend with many people all over the world .  ...   0.614788\n",
       "953                                                  All of them look so happy .  ...   0.614788\n",
       "954                                         It is really pretty day in Bangkok .  ...   0.686589\n",
       "955                               He looked embarrassed with shyly smile . . . .  ...   0.638943\n",
       "956                                   I used to use it without sounds recently .  ...   0.614788\n",
       "957                                            I was able to cook them tastily .  ...   0.000000\n",
       "958                          Thank you for all instructors in the school ! ! ! !  ...   0.537285\n",
       "959                So it is because I would like to a movie without subutitles .  ...   0.680375\n",
       "960                       I would love to finish reading it in this three days .  ...   0.652994\n",
       "961                  Even though I major in economic , one of my dreams is to be  ...   0.614788\n",
       "962                                               Hello ! I am from whitehouse .  ...   0.759836\n",
       "963                             I learn to speak English and find friends here .  ...   0.668740\n",
       "964                                         So I WILL get it inthis year because  ...   0.594604\n",
       "965                                             you should use this dictionary .  ...   0.614788\n",
       "966                                    I am looking forward to see her as well .  ...   0.668740\n",
       "967  salon was very beautiful , but more expensive than that in tsukuba city and  ...   0.000000\n",
       "968                                It have a half of math , a harf of japanese .  ...   0.638943\n",
       "969                                         The beef in the curry is so tender !  ...   0.577350\n",
       "970                                 Only problem is that it is very heavy food .  ...   0.549100\n",
       "971                                      And finally I can say I puzzle it out !  ...   0.668740\n",
       "972                                                    We must something ! ! ! !  ...   0.524736\n",
       "973                                                 actually I know what do mean  ...   0.532946\n",
       "974                                                    I sent an email to them .  ...   0.759836\n",
       "975                        I think no ricense rider should be appriciated more .  ...   0.722657\n",
       "976                    The benefit of illness is that I can watch film all day .  ...   0.626284\n",
       "977                                                I am a free in the morining .  ...   0.633783\n",
       "978                      I received the highest point in our evaluation system .  ...   0.668740\n",
       "979        It is a system to make fine goods required by Buyer in economically .  ...   0.614788\n",
       "980                     Strong wind and rain will make ground of mountain weak .  ...   0.526640\n",
       "981             I wish that I can overcome this problem before going to Korean .  ...   0.626284\n",
       "982                 That means , I wear working uniform and helmet during work .  ...   0.740083\n",
       "983                    When I came here in the USA , I was looking for housing .  ...   0.693098\n",
       "984                      I know it was fool of Japan to battle against America .  ...   0.638943\n",
       "985                            He is crowling everywhere as his instinct tells .  ...   0.577350\n",
       "986                         I was glad that Manchester United beated Tottenham .  ...   0.577350\n",
       "987                                        What if I and he would be that case ?  ...   0.614788\n",
       "988                                       And I hope I like the summer Finland .  ...   0.652994\n",
       "989                               What children say and act , always amuses us .  ...   0.668740\n",
       "990                                            I can not think up anything now .  ...   0.594604\n",
       "991                                 I have also a brother over three years old .  ...   0.707107\n",
       "992                                                  I do not have any sisters .  ...   0.638943\n",
       "993                                 actually , this is my twice writing daily ,   ...   0.577350\n",
       "994                       The most scariest stuff is MacDonald is french fries .  ...   0.577350\n",
       "995                                          Please it is possible to continue .  ...   0.686589\n",
       "996                                        I think our language skill was even .  ...   0.614788\n",
       "997                                    It is a long time since I quited my job .  ...   0.707107\n",
       "998          Bad news is we will hold another big conference which could be just  ...   0.000000\n",
       "999                                       We lay down on the beach for a while .  ...   0.668740\n",
       "\n",
       "[50 rows x 4 columns]"
      ]
     },
     "execution_count": 43,
     "metadata": {
      "tags": []
     },
     "output_type": "execute_result"
    }
   ],
   "source": [
    "df[-50:]"
   ]
  },
  {
   "cell_type": "markdown",
   "metadata": {
    "id": "OzLd2D3C0xPZ"
   },
   "source": [
    "## OBSERVATIONS:"
   ]
  },
  {
   "cell_type": "markdown",
   "metadata": {
    "id": "rKgTsZeG01fn"
   },
   "source": [
    "- Model seems to perform well.\n",
    "- Performance similar to encoder decoder performance\n",
    "- BLEU score of 0.62"
   ]
  },
  {
   "cell_type": "code",
   "execution_count": 2,
   "metadata": {},
   "outputs": [
    {
     "name": "stderr",
     "output_type": "stream",
     "text": [
      "[NbConvertApp] Converting notebook GEC_Baseline_Attention.ipynb to PDFviaHTML\n",
      "[NbConvertApp] Writing 1055580 bytes to GEC_Baseline_Attention.pdf\n"
     ]
    }
   ],
   "source": [
    "!jupyter-nbconvert --to PDFviaHTML GEC_Baseline_Attention.ipynb"
   ]
  },
  {
   "cell_type": "code",
   "execution_count": null,
   "metadata": {},
   "outputs": [],
   "source": []
  }
 ],
 "metadata": {
  "accelerator": "GPU",
  "colab": {
   "collapsed_sections": [
    "0xDyXnPO7TZq",
    "h5SgM7yWHtPA",
    "t8dRVa-wHxgh",
    "awdk_hD37sad",
    "vnYCyLRfhyvq",
    "OzLd2D3C0xPZ"
   ],
   "machine_shape": "hm",
   "name": "GEC_Baseline_Attention.ipynb",
   "provenance": []
  },
  "kernelspec": {
   "display_name": "Python 3",
   "language": "python",
   "name": "python3"
  },
  "language_info": {
   "codemirror_mode": {
    "name": "ipython",
    "version": 3
   },
   "file_extension": ".py",
   "mimetype": "text/x-python",
   "name": "python",
   "nbconvert_exporter": "python",
   "pygments_lexer": "ipython3",
   "version": "3.8.3"
  }
 },
 "nbformat": 4,
 "nbformat_minor": 1
}
